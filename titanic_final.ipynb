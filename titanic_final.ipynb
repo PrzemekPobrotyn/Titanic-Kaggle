{
 "cells": [
  {
   "cell_type": "markdown",
   "metadata": {},
   "source": [
    "# Titanic dataset"
   ]
  },
  {
   "cell_type": "markdown",
   "metadata": {},
   "source": [
    "In this notebook we present a complete solution of Kaggle's titanic competition. The notebook is organised as followed:\n",
    "* EDA\n",
    "* Feature engineering\n",
    "* Model selection: we train and tune hyperparameters of 4 classifiers. This is done with an automated procedure\n",
    "* Stacking & xgboost: we use stacking in an attempt to improve our LB score and use xgboost as 2nd level classifier"
   ]
  },
  {
   "cell_type": "code",
   "execution_count": 1,
   "metadata": {
    "collapsed": false
   },
   "outputs": [],
   "source": [
    "import numpy as np\n",
    "import matplotlib.pyplot as plt\n",
    "import pandas as pd\n",
    "import seaborn as sns\n",
    "%matplotlib inline"
   ]
  },
  {
   "cell_type": "code",
   "execution_count": 508,
   "metadata": {
    "collapsed": true
   },
   "outputs": [],
   "source": [
    "#this is just for the final presentation, to make the notebook look nicer\n",
    "import warnings\n",
    "warnings.filterwarnings(\"ignore\")"
   ]
  },
  {
   "cell_type": "markdown",
   "metadata": {},
   "source": [
    "## EDA"
   ]
  },
  {
   "cell_type": "markdown",
   "metadata": {},
   "source": [
    "Let's start by reading in raw train and test data."
   ]
  },
  {
   "cell_type": "code",
   "execution_count": 492,
   "metadata": {
    "collapsed": true
   },
   "outputs": [],
   "source": [
    "raw_train = pd.read_csv(\"train.csv\")\n",
    "raw_test = pd.read_csv(\"test.csv\")"
   ]
  },
  {
   "cell_type": "markdown",
   "metadata": {},
   "source": [
    "Let's peek at the the first 5 rows of our raw training set."
   ]
  },
  {
   "cell_type": "code",
   "execution_count": 3,
   "metadata": {
    "collapsed": false
   },
   "outputs": [
    {
     "data": {
      "text/html": [
       "<div>\n",
       "<table border=\"1\" class=\"dataframe\">\n",
       "  <thead>\n",
       "    <tr style=\"text-align: right;\">\n",
       "      <th></th>\n",
       "      <th>PassengerId</th>\n",
       "      <th>Survived</th>\n",
       "      <th>Pclass</th>\n",
       "      <th>Name</th>\n",
       "      <th>Sex</th>\n",
       "      <th>Age</th>\n",
       "      <th>SibSp</th>\n",
       "      <th>Parch</th>\n",
       "      <th>Ticket</th>\n",
       "      <th>Fare</th>\n",
       "      <th>Cabin</th>\n",
       "      <th>Embarked</th>\n",
       "    </tr>\n",
       "  </thead>\n",
       "  <tbody>\n",
       "    <tr>\n",
       "      <th>0</th>\n",
       "      <td>1</td>\n",
       "      <td>0</td>\n",
       "      <td>3</td>\n",
       "      <td>Braund, Mr. Owen Harris</td>\n",
       "      <td>male</td>\n",
       "      <td>22.0</td>\n",
       "      <td>1</td>\n",
       "      <td>0</td>\n",
       "      <td>A/5 21171</td>\n",
       "      <td>7.2500</td>\n",
       "      <td>NaN</td>\n",
       "      <td>S</td>\n",
       "    </tr>\n",
       "    <tr>\n",
       "      <th>1</th>\n",
       "      <td>2</td>\n",
       "      <td>1</td>\n",
       "      <td>1</td>\n",
       "      <td>Cumings, Mrs. John Bradley (Florence Briggs Th...</td>\n",
       "      <td>female</td>\n",
       "      <td>38.0</td>\n",
       "      <td>1</td>\n",
       "      <td>0</td>\n",
       "      <td>PC 17599</td>\n",
       "      <td>71.2833</td>\n",
       "      <td>C85</td>\n",
       "      <td>C</td>\n",
       "    </tr>\n",
       "    <tr>\n",
       "      <th>2</th>\n",
       "      <td>3</td>\n",
       "      <td>1</td>\n",
       "      <td>3</td>\n",
       "      <td>Heikkinen, Miss. Laina</td>\n",
       "      <td>female</td>\n",
       "      <td>26.0</td>\n",
       "      <td>0</td>\n",
       "      <td>0</td>\n",
       "      <td>STON/O2. 3101282</td>\n",
       "      <td>7.9250</td>\n",
       "      <td>NaN</td>\n",
       "      <td>S</td>\n",
       "    </tr>\n",
       "    <tr>\n",
       "      <th>3</th>\n",
       "      <td>4</td>\n",
       "      <td>1</td>\n",
       "      <td>1</td>\n",
       "      <td>Futrelle, Mrs. Jacques Heath (Lily May Peel)</td>\n",
       "      <td>female</td>\n",
       "      <td>35.0</td>\n",
       "      <td>1</td>\n",
       "      <td>0</td>\n",
       "      <td>113803</td>\n",
       "      <td>53.1000</td>\n",
       "      <td>C123</td>\n",
       "      <td>S</td>\n",
       "    </tr>\n",
       "    <tr>\n",
       "      <th>4</th>\n",
       "      <td>5</td>\n",
       "      <td>0</td>\n",
       "      <td>3</td>\n",
       "      <td>Allen, Mr. William Henry</td>\n",
       "      <td>male</td>\n",
       "      <td>35.0</td>\n",
       "      <td>0</td>\n",
       "      <td>0</td>\n",
       "      <td>373450</td>\n",
       "      <td>8.0500</td>\n",
       "      <td>NaN</td>\n",
       "      <td>S</td>\n",
       "    </tr>\n",
       "  </tbody>\n",
       "</table>\n",
       "</div>"
      ],
      "text/plain": [
       "   PassengerId  Survived  Pclass  \\\n",
       "0            1         0       3   \n",
       "1            2         1       1   \n",
       "2            3         1       3   \n",
       "3            4         1       1   \n",
       "4            5         0       3   \n",
       "\n",
       "                                                Name     Sex   Age  SibSp  \\\n",
       "0                            Braund, Mr. Owen Harris    male  22.0      1   \n",
       "1  Cumings, Mrs. John Bradley (Florence Briggs Th...  female  38.0      1   \n",
       "2                             Heikkinen, Miss. Laina  female  26.0      0   \n",
       "3       Futrelle, Mrs. Jacques Heath (Lily May Peel)  female  35.0      1   \n",
       "4                           Allen, Mr. William Henry    male  35.0      0   \n",
       "\n",
       "   Parch            Ticket     Fare Cabin Embarked  \n",
       "0      0         A/5 21171   7.2500   NaN        S  \n",
       "1      0          PC 17599  71.2833   C85        C  \n",
       "2      0  STON/O2. 3101282   7.9250   NaN        S  \n",
       "3      0            113803  53.1000  C123        S  \n",
       "4      0            373450   8.0500   NaN        S  "
      ]
     },
     "execution_count": 3,
     "metadata": {},
     "output_type": "execute_result"
    }
   ],
   "source": [
    "raw_train.head()"
   ]
  },
  {
   "cell_type": "markdown",
   "metadata": {},
   "source": [
    "The same for the raw test set."
   ]
  },
  {
   "cell_type": "code",
   "execution_count": 4,
   "metadata": {
    "collapsed": false
   },
   "outputs": [
    {
     "data": {
      "text/html": [
       "<div>\n",
       "<table border=\"1\" class=\"dataframe\">\n",
       "  <thead>\n",
       "    <tr style=\"text-align: right;\">\n",
       "      <th></th>\n",
       "      <th>PassengerId</th>\n",
       "      <th>Pclass</th>\n",
       "      <th>Name</th>\n",
       "      <th>Sex</th>\n",
       "      <th>Age</th>\n",
       "      <th>SibSp</th>\n",
       "      <th>Parch</th>\n",
       "      <th>Ticket</th>\n",
       "      <th>Fare</th>\n",
       "      <th>Cabin</th>\n",
       "      <th>Embarked</th>\n",
       "    </tr>\n",
       "  </thead>\n",
       "  <tbody>\n",
       "    <tr>\n",
       "      <th>0</th>\n",
       "      <td>892</td>\n",
       "      <td>3</td>\n",
       "      <td>Kelly, Mr. James</td>\n",
       "      <td>male</td>\n",
       "      <td>34.5</td>\n",
       "      <td>0</td>\n",
       "      <td>0</td>\n",
       "      <td>330911</td>\n",
       "      <td>7.8292</td>\n",
       "      <td>NaN</td>\n",
       "      <td>Q</td>\n",
       "    </tr>\n",
       "    <tr>\n",
       "      <th>1</th>\n",
       "      <td>893</td>\n",
       "      <td>3</td>\n",
       "      <td>Wilkes, Mrs. James (Ellen Needs)</td>\n",
       "      <td>female</td>\n",
       "      <td>47.0</td>\n",
       "      <td>1</td>\n",
       "      <td>0</td>\n",
       "      <td>363272</td>\n",
       "      <td>7.0000</td>\n",
       "      <td>NaN</td>\n",
       "      <td>S</td>\n",
       "    </tr>\n",
       "    <tr>\n",
       "      <th>2</th>\n",
       "      <td>894</td>\n",
       "      <td>2</td>\n",
       "      <td>Myles, Mr. Thomas Francis</td>\n",
       "      <td>male</td>\n",
       "      <td>62.0</td>\n",
       "      <td>0</td>\n",
       "      <td>0</td>\n",
       "      <td>240276</td>\n",
       "      <td>9.6875</td>\n",
       "      <td>NaN</td>\n",
       "      <td>Q</td>\n",
       "    </tr>\n",
       "    <tr>\n",
       "      <th>3</th>\n",
       "      <td>895</td>\n",
       "      <td>3</td>\n",
       "      <td>Wirz, Mr. Albert</td>\n",
       "      <td>male</td>\n",
       "      <td>27.0</td>\n",
       "      <td>0</td>\n",
       "      <td>0</td>\n",
       "      <td>315154</td>\n",
       "      <td>8.6625</td>\n",
       "      <td>NaN</td>\n",
       "      <td>S</td>\n",
       "    </tr>\n",
       "    <tr>\n",
       "      <th>4</th>\n",
       "      <td>896</td>\n",
       "      <td>3</td>\n",
       "      <td>Hirvonen, Mrs. Alexander (Helga E Lindqvist)</td>\n",
       "      <td>female</td>\n",
       "      <td>22.0</td>\n",
       "      <td>1</td>\n",
       "      <td>1</td>\n",
       "      <td>3101298</td>\n",
       "      <td>12.2875</td>\n",
       "      <td>NaN</td>\n",
       "      <td>S</td>\n",
       "    </tr>\n",
       "  </tbody>\n",
       "</table>\n",
       "</div>"
      ],
      "text/plain": [
       "   PassengerId  Pclass                                          Name     Sex  \\\n",
       "0          892       3                              Kelly, Mr. James    male   \n",
       "1          893       3              Wilkes, Mrs. James (Ellen Needs)  female   \n",
       "2          894       2                     Myles, Mr. Thomas Francis    male   \n",
       "3          895       3                              Wirz, Mr. Albert    male   \n",
       "4          896       3  Hirvonen, Mrs. Alexander (Helga E Lindqvist)  female   \n",
       "\n",
       "    Age  SibSp  Parch   Ticket     Fare Cabin Embarked  \n",
       "0  34.5      0      0   330911   7.8292   NaN        Q  \n",
       "1  47.0      1      0   363272   7.0000   NaN        S  \n",
       "2  62.0      0      0   240276   9.6875   NaN        Q  \n",
       "3  27.0      0      0   315154   8.6625   NaN        S  \n",
       "4  22.0      1      1  3101298  12.2875   NaN        S  "
      ]
     },
     "execution_count": 4,
     "metadata": {},
     "output_type": "execute_result"
    }
   ],
   "source": [
    "raw_test.head()"
   ]
  },
  {
   "cell_type": "markdown",
   "metadata": {},
   "source": [
    "Let's inspect what kind of data is stored in our training data frame."
   ]
  },
  {
   "cell_type": "code",
   "execution_count": 5,
   "metadata": {
    "collapsed": false
   },
   "outputs": [
    {
     "name": "stdout",
     "output_type": "stream",
     "text": [
      "<class 'pandas.core.frame.DataFrame'>\n",
      "RangeIndex: 891 entries, 0 to 890\n",
      "Data columns (total 12 columns):\n",
      "PassengerId    891 non-null int64\n",
      "Survived       891 non-null int64\n",
      "Pclass         891 non-null int64\n",
      "Name           891 non-null object\n",
      "Sex            891 non-null object\n",
      "Age            714 non-null float64\n",
      "SibSp          891 non-null int64\n",
      "Parch          891 non-null int64\n",
      "Ticket         891 non-null object\n",
      "Fare           891 non-null float64\n",
      "Cabin          204 non-null object\n",
      "Embarked       889 non-null object\n",
      "dtypes: float64(2), int64(5), object(5)\n",
      "memory usage: 83.6+ KB\n"
     ]
    }
   ],
   "source": [
    "raw_train.info()"
   ]
  },
  {
   "cell_type": "markdown",
   "metadata": {},
   "source": [
    "We see there are some missing values in Age and Embarked columns and 78% of Cabin column is missing."
   ]
  },
  {
   "cell_type": "markdown",
   "metadata": {},
   "source": [
    "Let's convert Pclass feature to type object, as it really is a categorical feature."
   ]
  },
  {
   "cell_type": "code",
   "execution_count": 6,
   "metadata": {
    "collapsed": true
   },
   "outputs": [],
   "source": [
    "raw_train['Pclass'] = raw_train['Pclass'].astype('object')\n",
    "raw_test['Pclass'] = raw_test['Pclass'].astype('object')"
   ]
  },
  {
   "cell_type": "markdown",
   "metadata": {},
   "source": [
    "Inspecting missing values for the test set:"
   ]
  },
  {
   "cell_type": "code",
   "execution_count": 7,
   "metadata": {
    "collapsed": false
   },
   "outputs": [
    {
     "name": "stdout",
     "output_type": "stream",
     "text": [
      "<class 'pandas.core.frame.DataFrame'>\n",
      "RangeIndex: 418 entries, 0 to 417\n",
      "Data columns (total 11 columns):\n",
      "PassengerId    418 non-null int64\n",
      "Pclass         418 non-null object\n",
      "Name           418 non-null object\n",
      "Sex            418 non-null object\n",
      "Age            332 non-null float64\n",
      "SibSp          418 non-null int64\n",
      "Parch          418 non-null int64\n",
      "Ticket         418 non-null object\n",
      "Fare           417 non-null float64\n",
      "Cabin          91 non-null object\n",
      "Embarked       418 non-null object\n",
      "dtypes: float64(2), int64(3), object(6)\n",
      "memory usage: 36.0+ KB\n"
     ]
    }
   ],
   "source": [
    "raw_test.info()"
   ]
  },
  {
   "cell_type": "code",
   "execution_count": 8,
   "metadata": {
    "collapsed": false
   },
   "outputs": [
    {
     "data": {
      "text/plain": [
       "PassengerId      0\n",
       "Pclass           0\n",
       "Name             0\n",
       "Sex              0\n",
       "Age             86\n",
       "SibSp            0\n",
       "Parch            0\n",
       "Ticket           0\n",
       "Fare             1\n",
       "Cabin          327\n",
       "Embarked         0\n",
       "dtype: int64"
      ]
     },
     "execution_count": 8,
     "metadata": {},
     "output_type": "execute_result"
    }
   ],
   "source": [
    "raw_test.isnull().sum()"
   ]
  },
  {
   "cell_type": "markdown",
   "metadata": {},
   "source": [
    "Similarly to our training set, we see a lot of missing Cabins, some missing Ages but also 1 missing fare and no missing Embarked."
   ]
  },
  {
   "cell_type": "markdown",
   "metadata": {},
   "source": [
    "Let's look at basic summary statistics of our training set."
   ]
  },
  {
   "cell_type": "code",
   "execution_count": 9,
   "metadata": {
    "collapsed": false
   },
   "outputs": [
    {
     "data": {
      "text/html": [
       "<div>\n",
       "<table border=\"1\" class=\"dataframe\">\n",
       "  <thead>\n",
       "    <tr style=\"text-align: right;\">\n",
       "      <th></th>\n",
       "      <th>Survived</th>\n",
       "      <th>Age</th>\n",
       "      <th>SibSp</th>\n",
       "      <th>Parch</th>\n",
       "      <th>Fare</th>\n",
       "    </tr>\n",
       "  </thead>\n",
       "  <tbody>\n",
       "    <tr>\n",
       "      <th>count</th>\n",
       "      <td>891.000000</td>\n",
       "      <td>714.000000</td>\n",
       "      <td>891.000000</td>\n",
       "      <td>891.000000</td>\n",
       "      <td>891.000000</td>\n",
       "    </tr>\n",
       "    <tr>\n",
       "      <th>mean</th>\n",
       "      <td>0.383838</td>\n",
       "      <td>29.699118</td>\n",
       "      <td>0.523008</td>\n",
       "      <td>0.381594</td>\n",
       "      <td>32.204208</td>\n",
       "    </tr>\n",
       "    <tr>\n",
       "      <th>std</th>\n",
       "      <td>0.486592</td>\n",
       "      <td>14.526497</td>\n",
       "      <td>1.102743</td>\n",
       "      <td>0.806057</td>\n",
       "      <td>49.693429</td>\n",
       "    </tr>\n",
       "    <tr>\n",
       "      <th>min</th>\n",
       "      <td>0.000000</td>\n",
       "      <td>0.420000</td>\n",
       "      <td>0.000000</td>\n",
       "      <td>0.000000</td>\n",
       "      <td>0.000000</td>\n",
       "    </tr>\n",
       "    <tr>\n",
       "      <th>25%</th>\n",
       "      <td>0.000000</td>\n",
       "      <td>20.125000</td>\n",
       "      <td>0.000000</td>\n",
       "      <td>0.000000</td>\n",
       "      <td>7.910400</td>\n",
       "    </tr>\n",
       "    <tr>\n",
       "      <th>50%</th>\n",
       "      <td>0.000000</td>\n",
       "      <td>28.000000</td>\n",
       "      <td>0.000000</td>\n",
       "      <td>0.000000</td>\n",
       "      <td>14.454200</td>\n",
       "    </tr>\n",
       "    <tr>\n",
       "      <th>75%</th>\n",
       "      <td>1.000000</td>\n",
       "      <td>38.000000</td>\n",
       "      <td>1.000000</td>\n",
       "      <td>0.000000</td>\n",
       "      <td>31.000000</td>\n",
       "    </tr>\n",
       "    <tr>\n",
       "      <th>max</th>\n",
       "      <td>1.000000</td>\n",
       "      <td>80.000000</td>\n",
       "      <td>8.000000</td>\n",
       "      <td>6.000000</td>\n",
       "      <td>512.329200</td>\n",
       "    </tr>\n",
       "  </tbody>\n",
       "</table>\n",
       "</div>"
      ],
      "text/plain": [
       "         Survived         Age       SibSp       Parch        Fare\n",
       "count  891.000000  714.000000  891.000000  891.000000  891.000000\n",
       "mean     0.383838   29.699118    0.523008    0.381594   32.204208\n",
       "std      0.486592   14.526497    1.102743    0.806057   49.693429\n",
       "min      0.000000    0.420000    0.000000    0.000000    0.000000\n",
       "25%      0.000000   20.125000    0.000000    0.000000    7.910400\n",
       "50%      0.000000   28.000000    0.000000    0.000000   14.454200\n",
       "75%      1.000000   38.000000    1.000000    0.000000   31.000000\n",
       "max      1.000000   80.000000    8.000000    6.000000  512.329200"
      ]
     },
     "execution_count": 9,
     "metadata": {},
     "output_type": "execute_result"
    }
   ],
   "source": [
    "raw_train.iloc[:,1:].describe() #.iloc[:,1:] to exclude PassengerId"
   ]
  },
  {
   "cell_type": "markdown",
   "metadata": {},
   "source": [
    "We note the following: \n",
    "* Around 38% of passengers survived\n",
    "* most passengers have travelled alone,\n",
    "* mean and median age are close, around 28-29 years; relatively few elderly passengers,\n",
    "* 50% of fares line in the interval (7.9, 31), but maximum fare is 512."
   ]
  },
  {
   "cell_type": "markdown",
   "metadata": {},
   "source": [
    "Let's now examine basic summary statistics of categorica features."
   ]
  },
  {
   "cell_type": "code",
   "execution_count": 10,
   "metadata": {
    "collapsed": false
   },
   "outputs": [
    {
     "data": {
      "text/html": [
       "<div>\n",
       "<table border=\"1\" class=\"dataframe\">\n",
       "  <thead>\n",
       "    <tr style=\"text-align: right;\">\n",
       "      <th></th>\n",
       "      <th>Pclass</th>\n",
       "      <th>Name</th>\n",
       "      <th>Sex</th>\n",
       "      <th>Ticket</th>\n",
       "      <th>Cabin</th>\n",
       "      <th>Embarked</th>\n",
       "    </tr>\n",
       "  </thead>\n",
       "  <tbody>\n",
       "    <tr>\n",
       "      <th>count</th>\n",
       "      <td>891</td>\n",
       "      <td>891</td>\n",
       "      <td>891</td>\n",
       "      <td>891</td>\n",
       "      <td>204</td>\n",
       "      <td>889</td>\n",
       "    </tr>\n",
       "    <tr>\n",
       "      <th>unique</th>\n",
       "      <td>3</td>\n",
       "      <td>891</td>\n",
       "      <td>2</td>\n",
       "      <td>681</td>\n",
       "      <td>147</td>\n",
       "      <td>3</td>\n",
       "    </tr>\n",
       "    <tr>\n",
       "      <th>top</th>\n",
       "      <td>3</td>\n",
       "      <td>Gronnestad, Mr. Daniel Danielsen</td>\n",
       "      <td>male</td>\n",
       "      <td>347082</td>\n",
       "      <td>G6</td>\n",
       "      <td>S</td>\n",
       "    </tr>\n",
       "    <tr>\n",
       "      <th>freq</th>\n",
       "      <td>491</td>\n",
       "      <td>1</td>\n",
       "      <td>577</td>\n",
       "      <td>7</td>\n",
       "      <td>4</td>\n",
       "      <td>644</td>\n",
       "    </tr>\n",
       "  </tbody>\n",
       "</table>\n",
       "</div>"
      ],
      "text/plain": [
       "        Pclass                              Name   Sex  Ticket Cabin Embarked\n",
       "count      891                               891   891     891   204      889\n",
       "unique       3                               891     2     681   147        3\n",
       "top          3  Gronnestad, Mr. Daniel Danielsen  male  347082    G6        S\n",
       "freq       491                                 1   577       7     4      644"
      ]
     },
     "execution_count": 10,
     "metadata": {},
     "output_type": "execute_result"
    }
   ],
   "source": [
    "raw_train.describe(include=[np.object])"
   ]
  },
  {
   "cell_type": "markdown",
   "metadata": {},
   "source": [
    "We observer the following:\n",
    "* nearly 65% of passengers were male,\n",
    "* all names are unique,\n",
    "* Surprisingly (or not?), not all tickets are unique,\n",
    "* some Cabin were shared\n",
    "* 72% of passengers embarked in Southampton\n",
    "* unsurprisingly, most (over half) passengers were 3rd class"
   ]
  },
  {
   "cell_type": "markdown",
   "metadata": {},
   "source": [
    "Let's use pivot tables and visualisation to inspect how various features correlate with the chance of survival."
   ]
  },
  {
   "cell_type": "markdown",
   "metadata": {},
   "source": [
    "First let's examine the overall survival rate by sex."
   ]
  },
  {
   "cell_type": "code",
   "execution_count": 11,
   "metadata": {
    "collapsed": false
   },
   "outputs": [
    {
     "data": {
      "text/html": [
       "<div>\n",
       "<table border=\"1\" class=\"dataframe\">\n",
       "  <thead>\n",
       "    <tr style=\"text-align: right;\">\n",
       "      <th></th>\n",
       "      <th>Survived</th>\n",
       "    </tr>\n",
       "    <tr>\n",
       "      <th>Sex</th>\n",
       "      <th></th>\n",
       "    </tr>\n",
       "  </thead>\n",
       "  <tbody>\n",
       "    <tr>\n",
       "      <th>female</th>\n",
       "      <td>0.742038</td>\n",
       "    </tr>\n",
       "    <tr>\n",
       "      <th>male</th>\n",
       "      <td>0.188908</td>\n",
       "    </tr>\n",
       "  </tbody>\n",
       "</table>\n",
       "</div>"
      ],
      "text/plain": [
       "        Survived\n",
       "Sex             \n",
       "female  0.742038\n",
       "male    0.188908"
      ]
     },
     "execution_count": 11,
     "metadata": {},
     "output_type": "execute_result"
    }
   ],
   "source": [
    "raw_train.groupby('Sex')[['Survived']].mean()"
   ]
  },
  {
   "cell_type": "markdown",
   "metadata": {},
   "source": [
    "Let's compare then number of male and female passengers in each class."
   ]
  },
  {
   "cell_type": "code",
   "execution_count": 12,
   "metadata": {
    "collapsed": false
   },
   "outputs": [
    {
     "data": {
      "image/png": "[encoded data removed]",
      "text/plain": [
       "<matplotlib.figure.Figure at 0x110f70be0>"
      ]
     },
     "metadata": {},
     "output_type": "display_data"
    }
   ],
   "source": [
    "with plt.style.context('ggplot'):\n",
    "    g = sns.factorplot(\"Pclass\", data=raw_train, aspect=1.5, kind='count',hue='Sex')\n",
    "    g.set_ylabels('Number of Passengers')"
   ]
  },
  {
   "cell_type": "markdown",
   "metadata": {},
   "source": [
    "Now let's examine the survival rate by class and sex:"
   ]
  },
  {
   "cell_type": "code",
   "execution_count": 13,
   "metadata": {
    "collapsed": false
   },
   "outputs": [
    {
     "data": {
      "text/html": [
       "<div>\n",
       "<table border=\"1\" class=\"dataframe\">\n",
       "  <thead>\n",
       "    <tr style=\"text-align: right;\">\n",
       "      <th>Pclass</th>\n",
       "      <th>1</th>\n",
       "      <th>2</th>\n",
       "      <th>3</th>\n",
       "      <th>All</th>\n",
       "    </tr>\n",
       "    <tr>\n",
       "      <th>Sex</th>\n",
       "      <th></th>\n",
       "      <th></th>\n",
       "      <th></th>\n",
       "      <th></th>\n",
       "    </tr>\n",
       "  </thead>\n",
       "  <tbody>\n",
       "    <tr>\n",
       "      <th>female</th>\n",
       "      <td>0.968085</td>\n",
       "      <td>0.921053</td>\n",
       "      <td>0.500000</td>\n",
       "      <td>0.742038</td>\n",
       "    </tr>\n",
       "    <tr>\n",
       "      <th>male</th>\n",
       "      <td>0.368852</td>\n",
       "      <td>0.157407</td>\n",
       "      <td>0.135447</td>\n",
       "      <td>0.188908</td>\n",
       "    </tr>\n",
       "    <tr>\n",
       "      <th>All</th>\n",
       "      <td>0.629630</td>\n",
       "      <td>0.472826</td>\n",
       "      <td>0.242363</td>\n",
       "      <td>0.383838</td>\n",
       "    </tr>\n",
       "  </tbody>\n",
       "</table>\n",
       "</div>"
      ],
      "text/plain": [
       "Pclass         1         2         3       All\n",
       "Sex                                           \n",
       "female  0.968085  0.921053  0.500000  0.742038\n",
       "male    0.368852  0.157407  0.135447  0.188908\n",
       "All     0.629630  0.472826  0.242363  0.383838"
      ]
     },
     "execution_count": 13,
     "metadata": {},
     "output_type": "execute_result"
    }
   ],
   "source": [
    "df = raw_train.pivot_table('Survived', index = 'Sex', columns = 'Pclass', margins= True)\n",
    "df"
   ]
  },
  {
   "cell_type": "markdown",
   "metadata": {},
   "source": [
    "We see that nearly all first class women survived, with only a 4% survival rate drop between classed 1 and 2. For men, survival rate was also the highest among the first class passengers, but it halved for the second class male passengers as compared to first class. There was no much difference between first and second class male passengers, as opposed to female passengers, where we observed survival rate to drop by a factor of a half."
   ]
  },
  {
   "cell_type": "code",
   "execution_count": 14,
   "metadata": {
    "collapsed": false
   },
   "outputs": [
    {
     "data": {
      "image/png": "[encoded data removed]",
      "text/plain": [
       "<matplotlib.figure.Figure at 0x106e9c470>"
      ]
     },
     "metadata": {},
     "output_type": "display_data"
    }
   ],
   "source": [
    "with plt.style.context('ggplot'):\n",
    "    df.plot(df.index, df.columns,kind = 'bar', figsize=(10,6), fontsize = 14)\n",
    "    plt.ylabel('Survival rate', fontsize = 14)\n",
    "    plt.xlabel('Sex', fontsize = 14)\n",
    "    plt.xticks(rotation = 0)"
   ]
  },
  {
   "cell_type": "markdown",
   "metadata": {},
   "source": [
    "We now understand the influence of Pclass on survival rate and how it differes between genders. Let's examine the relationships between age or fare and survival rate."
   ]
  },
  {
   "cell_type": "markdown",
   "metadata": {},
   "source": [
    "Firstly, let's bin the ages into four quantiles and examin survival rates by age group, sex and Pclass."
   ]
  },
  {
   "cell_type": "code",
   "execution_count": 15,
   "metadata": {
    "collapsed": false
   },
   "outputs": [
    {
     "data": {
      "text/html": [
       "<div>\n",
       "<table border=\"1\" class=\"dataframe\">\n",
       "  <thead>\n",
       "    <tr style=\"text-align: right;\">\n",
       "      <th></th>\n",
       "      <th>Age</th>\n",
       "      <th>[0.42, 20.125]</th>\n",
       "      <th>(20.125, 28]</th>\n",
       "      <th>(28, 38]</th>\n",
       "      <th>(38, 80]</th>\n",
       "    </tr>\n",
       "    <tr>\n",
       "      <th>Sex</th>\n",
       "      <th>Pclass</th>\n",
       "      <th></th>\n",
       "      <th></th>\n",
       "      <th></th>\n",
       "      <th></th>\n",
       "    </tr>\n",
       "  </thead>\n",
       "  <tbody>\n",
       "    <tr>\n",
       "      <th rowspan=\"3\" valign=\"top\">female</th>\n",
       "      <th>1</th>\n",
       "      <td>0.928571</td>\n",
       "      <td>0.933333</td>\n",
       "      <td>1.000000</td>\n",
       "      <td>0.968750</td>\n",
       "    </tr>\n",
       "    <tr>\n",
       "      <th>2</th>\n",
       "      <td>1.000000</td>\n",
       "      <td>0.863636</td>\n",
       "      <td>0.950000</td>\n",
       "      <td>0.875000</td>\n",
       "    </tr>\n",
       "    <tr>\n",
       "      <th>3</th>\n",
       "      <td>0.510638</td>\n",
       "      <td>0.538462</td>\n",
       "      <td>0.470588</td>\n",
       "      <td>0.083333</td>\n",
       "    </tr>\n",
       "    <tr>\n",
       "      <th rowspan=\"3\" valign=\"top\">male</th>\n",
       "      <th>1</th>\n",
       "      <td>0.571429</td>\n",
       "      <td>0.562500</td>\n",
       "      <td>0.500000</td>\n",
       "      <td>0.277778</td>\n",
       "    </tr>\n",
       "    <tr>\n",
       "      <th>2</th>\n",
       "      <td>0.526316</td>\n",
       "      <td>0.000000</td>\n",
       "      <td>0.096774</td>\n",
       "      <td>0.083333</td>\n",
       "    </tr>\n",
       "    <tr>\n",
       "      <th>3</th>\n",
       "      <td>0.197368</td>\n",
       "      <td>0.126582</td>\n",
       "      <td>0.169492</td>\n",
       "      <td>0.076923</td>\n",
       "    </tr>\n",
       "  </tbody>\n",
       "</table>\n",
       "</div>"
      ],
      "text/plain": [
       "Age            [0.42, 20.125]  (20.125, 28]  (28, 38]  (38, 80]\n",
       "Sex    Pclass                                                  \n",
       "female 1             0.928571      0.933333  1.000000  0.968750\n",
       "       2             1.000000      0.863636  0.950000  0.875000\n",
       "       3             0.510638      0.538462  0.470588  0.083333\n",
       "male   1             0.571429      0.562500  0.500000  0.277778\n",
       "       2             0.526316      0.000000  0.096774  0.083333\n",
       "       3             0.197368      0.126582  0.169492  0.076923"
      ]
     },
     "execution_count": 15,
     "metadata": {},
     "output_type": "execute_result"
    }
   ],
   "source": [
    "ages = pd.qcut(raw_train['Age'],4)\n",
    "df = raw_train.pivot_table('Survived', index = ['Sex', 'Pclass'], columns = ages)\n",
    "df"
   ]
  },
  {
   "cell_type": "code",
   "execution_count": 16,
   "metadata": {
    "collapsed": false
   },
   "outputs": [
    {
     "data": {
      "image/png": "[encoded data removed]",
      "text/plain": [
       "<matplotlib.figure.Figure at 0x111393a58>"
      ]
     },
     "metadata": {},
     "output_type": "display_data"
    }
   ],
   "source": [
    "kwargs = dict(histtype='stepfilled', alpha=0.4, normed=False, bins=40)\n",
    "\n",
    "with plt.style.context('ggplot'):\n",
    "    plt.hist(raw_train.query('Survived == 1')['Age'].dropna(), **kwargs, label = 'Survived')\n",
    "    plt.hist(raw_train.query('Survived == 0')['Age'].dropna(), **kwargs, label = 'Died')\n",
    "    plt.legend()\n",
    "    plt.xlabel(\"Age\")\n",
    "    plt.ylabel(\"Number of passengers\");"
   ]
  },
  {
   "cell_type": "markdown",
   "metadata": {},
   "source": [
    "We note the following:\n",
    "* Children were more likely to survive than adults\n",
    "* The eldest passengers survived\n",
    "* Highest mortality was in the age group 20-30, perhaps due to male 3rd class passengers? Let's examine that!"
   ]
  },
  {
   "cell_type": "code",
   "execution_count": 17,
   "metadata": {
    "collapsed": false
   },
   "outputs": [
    {
     "data": {
      "image/png": "[encoded data removed]",
      "text/plain": [
       "<matplotlib.figure.Figure at 0x111668ba8>"
      ]
     },
     "metadata": {},
     "output_type": "display_data"
    }
   ],
   "source": [
    "with plt.style.context('ggplot'):\n",
    "    \n",
    "    plt.figure(figsize = (15,5))\n",
    "    \n",
    "    plt.subplot(1,2,1)\n",
    "    plt.hist(raw_train.query('Survived == 1 & Sex == \"male\"')['Age'].dropna(), **kwargs, label = 'Survived')\n",
    "    plt.hist(raw_train.query('Survived == 0 & Sex == \"male\"')['Age'].dropna(), **kwargs, label = 'Died')\n",
    "    plt.legend()\n",
    "    plt.xlabel(\"Age\")\n",
    "    plt.ylabel(\"Number of passengers\")\n",
    "    plt.title('Survival of male passengers');\n",
    "    \n",
    "    plt.subplot(1,2,2)\n",
    "    plt.hist(raw_train.query('Survived == 1 & Sex == \"female\"')['Age'].dropna(), **kwargs, label = 'Survived')\n",
    "    plt.hist(raw_train.query('Survived == 0 & Sex == \"female\"')['Age'].dropna(), **kwargs, label = 'Died')\n",
    "    plt.legend()\n",
    "    plt.xlabel(\"Age\")\n",
    "    plt.ylabel(\"Number of passengers\")\n",
    "    plt.title('Survival of female passengers');"
   ]
  },
  {
   "cell_type": "markdown",
   "metadata": {},
   "source": [
    "We observe that:\n",
    "* vast majority of males around 20 have died. \n",
    "* Children survival seems to be independent of their gender\n",
    "* The peak in femal survival is just over 20\n",
    "* The peak in male survival is just over 30"
   ]
  },
  {
   "cell_type": "markdown",
   "metadata": {},
   "source": [
    "Repeat the same exercise, this time differentiating by Pclass."
   ]
  },
  {
   "cell_type": "code",
   "execution_count": 18,
   "metadata": {
    "collapsed": false
   },
   "outputs": [
    {
     "data": {
      "image/png": "[encoded data removed]",
      "text/plain": [
       "<matplotlib.figure.Figure at 0x1115f0ba8>"
      ]
     },
     "metadata": {},
     "output_type": "display_data"
    }
   ],
   "source": [
    "with plt.style.context('ggplot'):\n",
    "    \n",
    "    plt.figure(figsize = (15,10))\n",
    "    \n",
    "    plt.subplot(3,1,1)\n",
    "    plt.hist(raw_train.query('Survived == 1 & Pclass == 1')['Age'].dropna(), **kwargs, label = 'Survived')\n",
    "    plt.hist(raw_train.query('Survived == 0 & Pclass == 1')['Age'].dropna(), **kwargs, label = 'Died')\n",
    "    plt.legend()\n",
    "    plt.xlabel(\"Age\")\n",
    "    plt.ylabel(\"Number of passengers\")\n",
    "    plt.title('Pclass = 1');\n",
    "    \n",
    "    plt.subplot(3,1,2)\n",
    "    plt.hist(raw_train.query('Survived == 1 & Pclass == 2')['Age'].dropna(), **kwargs, label = 'Survived')\n",
    "    plt.hist(raw_train.query('Survived == 0 & Pclass == 2')['Age'].dropna(), **kwargs, label = 'Died')\n",
    "    plt.legend()\n",
    "    plt.xlabel(\"Age\")\n",
    "    plt.ylabel(\"Number of passengers\")\n",
    "    plt.title('Pclass = 2');\n",
    "    \n",
    "    plt.subplot(3,1,3)\n",
    "    plt.hist(raw_train.query('Survived == 1 & Pclass == 3')['Age'].dropna(), **kwargs, label = 'Survived')\n",
    "    plt.hist(raw_train.query('Survived == 0 & Pclass == 3')['Age'].dropna(), **kwargs, label = 'Died')\n",
    "    plt.legend()\n",
    "    plt.xlabel(\"Age\")\n",
    "    plt.ylabel(\"Number of passengers\")\n",
    "    plt.title('Pclass = 3');\n",
    "    \n",
    "    plt.subplots_adjust(hspace = 0.5)"
   ]
  },
  {
   "cell_type": "markdown",
   "metadata": {},
   "source": [
    "The plot above clearly show the differences between survival rates in each class. Even mortality rate for children has significanlty increased for Pclass = 3."
   ]
  },
  {
   "cell_type": "markdown",
   "metadata": {},
   "source": [
    "Let's examine the effect of port of embarkment on survival."
   ]
  },
  {
   "cell_type": "code",
   "execution_count": 19,
   "metadata": {
    "collapsed": false
   },
   "outputs": [
    {
     "data": {
      "image/png": "[encoded data removed]",
      "text/plain": [
       "<matplotlib.figure.Figure at 0x1119a2320>"
      ]
     },
     "metadata": {},
     "output_type": "display_data"
    }
   ],
   "source": [
    "with plt.style.context('ggplot'):\n",
    "    \n",
    "    survived = raw_train.query('Survived ==1')['Embarked'].value_counts()\n",
    "    died = raw_train.query('Survived == 0')['Embarked'].value_counts()\n",
    "    df = pd.DataFrame([survived,died])\n",
    "    df.index = ['Survived','Dead']\n",
    "    df.plot(kind='bar', stacked=True, figsize=(8,8))\n",
    "    plt.xticks(rotation = 0, fontsize = 15)\n",
    "    plt.ylabel('Number of Passengers', fontsize = 15)"
   ]
  },
  {
   "cell_type": "code",
   "execution_count": 20,
   "metadata": {
    "collapsed": false
   },
   "outputs": [
    {
     "data": {
      "text/plain": [
       "Embarked\n",
       "C    0.553571\n",
       "Q    0.389610\n",
       "S    0.336957\n",
       "Name: Survived, dtype: float64"
      ]
     },
     "execution_count": 20,
     "metadata": {},
     "output_type": "execute_result"
    }
   ],
   "source": [
    "raw_train.groupby('Embarked')['Survived'].mean()"
   ]
  },
  {
   "cell_type": "markdown",
   "metadata": {},
   "source": [
    "Recall that overall survival rate was 38%, so we observe that passengers who boarded in Southampton seem to be a little less likely to survive (however, most passengers boarded in Southmapton, so this lowering effect might not be statistically significant). On the other hand, we observe that more than a half of passenger who boarded in Cherbourg survived. Let's examine who emarked the ship in Cherbourg."
   ]
  },
  {
   "cell_type": "code",
   "execution_count": 21,
   "metadata": {
    "collapsed": false
   },
   "outputs": [
    {
     "data": {
      "text/html": [
       "<div>\n",
       "<table border=\"1\" class=\"dataframe\">\n",
       "  <thead>\n",
       "    <tr style=\"text-align: right;\">\n",
       "      <th></th>\n",
       "      <th>Age</th>\n",
       "      <th>Fare</th>\n",
       "    </tr>\n",
       "    <tr>\n",
       "      <th>Embarked</th>\n",
       "      <th></th>\n",
       "      <th></th>\n",
       "    </tr>\n",
       "  </thead>\n",
       "  <tbody>\n",
       "    <tr>\n",
       "      <th>C</th>\n",
       "      <td>30.814769</td>\n",
       "      <td>59.954144</td>\n",
       "    </tr>\n",
       "    <tr>\n",
       "      <th>Q</th>\n",
       "      <td>28.089286</td>\n",
       "      <td>13.276030</td>\n",
       "    </tr>\n",
       "    <tr>\n",
       "      <th>S</th>\n",
       "      <td>29.445397</td>\n",
       "      <td>27.079812</td>\n",
       "    </tr>\n",
       "  </tbody>\n",
       "</table>\n",
       "</div>"
      ],
      "text/plain": [
       "                Age       Fare\n",
       "Embarked                      \n",
       "C         30.814769  59.954144\n",
       "Q         28.089286  13.276030\n",
       "S         29.445397  27.079812"
      ]
     },
     "execution_count": 21,
     "metadata": {},
     "output_type": "execute_result"
    }
   ],
   "source": [
    "raw_train.groupby('Embarked')['Age','Fare'].mean()"
   ]
  },
  {
   "cell_type": "markdown",
   "metadata": {},
   "source": [
    "The mean age doesn't differ much between three ports but the average fare is much larger in Cherbourg. Let's seem the socioeconomic class of passegners travelling from Cherbourg."
   ]
  },
  {
   "cell_type": "code",
   "execution_count": 22,
   "metadata": {
    "collapsed": false
   },
   "outputs": [
    {
     "data": {
      "image/png": "[encoded data removed]",
      "text/plain": [
       "<matplotlib.figure.Figure at 0x111af6f28>"
      ]
     },
     "metadata": {},
     "output_type": "display_data"
    }
   ],
   "source": [
    "cherbourg = raw_train.query('Embarked == \"C\"')['Pclass']\n",
    "with plt.style.context('ggplot'):\n",
    "    cherbourg.value_counts().plot(kind = 'bar', figsize = (4,4))\n",
    "    plt.xticks(rotation = 0, fontsize = 15)\n",
    "    plt.xlabel('Pclass')\n",
    "    plt.ylabel('Number of passengers')"
   ]
  },
  {
   "cell_type": "markdown",
   "metadata": {},
   "source": [
    "This confirm our suspicion that higher survival rate at Cherbourg is due to passengers' social class."
   ]
  },
  {
   "cell_type": "markdown",
   "metadata": {},
   "source": [
    "Finally, let's examine the interaction between fare, survival rate, and Pclass."
   ]
  },
  {
   "cell_type": "code",
   "execution_count": 23,
   "metadata": {
    "collapsed": false
   },
   "outputs": [
    {
     "data": {
      "image/png": "[encoded data removed]",
      "text/plain": [
       "<matplotlib.figure.Figure at 0x111336518>"
      ]
     },
     "metadata": {},
     "output_type": "display_data"
    }
   ],
   "source": [
    "with plt.style.context('ggplot'):\n",
    "    g = sns.factorplot(\"Pclass\", \"Fare\", \"Sex\", data=raw_train, kind=\"box\", size = 10)\n",
    "    g.set_axis_labels(\"Pclass\", \"Fare\");"
   ]
  },
  {
   "cell_type": "markdown",
   "metadata": {},
   "source": [
    "Remove fares above 300 for a clearer picture."
   ]
  },
  {
   "cell_type": "code",
   "execution_count": 24,
   "metadata": {
    "collapsed": false
   },
   "outputs": [
    {
     "data": {
      "image/png": "[encoded data removed]",
      "text/plain": [
       "<matplotlib.figure.Figure at 0x111b20358>"
      ]
     },
     "metadata": {},
     "output_type": "display_data"
    }
   ],
   "source": [
    "with plt.style.context('ggplot'):\n",
    "    g = sns.factorplot(\"Pclass\", \"Fare\", \"Sex\", data=raw_train.query('Fare < 300'), kind=\"box\", size = 10)\n",
    "    g.set_axis_labels(\"Pclass\", \"Fare\");"
   ]
  },
  {
   "cell_type": "markdown",
   "metadata": {},
   "source": [
    "We see that some first class passengers have paid nothing, and every female must have paid something. Females also paid more on average (especially first class) and generally have a wider spread of prices paid. Let's see the same picture, this time splitting between surived and dead."
   ]
  },
  {
   "cell_type": "code",
   "execution_count": 25,
   "metadata": {
    "collapsed": false
   },
   "outputs": [
    {
     "data": {
      "image/png": "[encoded data removed]",
      "text/plain": [
       "<matplotlib.figure.Figure at 0x111a167b8>"
      ]
     },
     "metadata": {},
     "output_type": "display_data"
    }
   ],
   "source": [
    "with plt.style.context('ggplot'):\n",
    "    g = sns.factorplot(\"Pclass\", \"Fare\", \"Survived\", data=raw_train.query('Fare < 300'), kind=\"box\", size = 10)\n",
    "    g.set_axis_labels(\"Pclass\", \"Fare\");"
   ]
  },
  {
   "cell_type": "markdown",
   "metadata": {},
   "source": [
    "This looks very similar to the plot above, since women were more likely to survive than men. "
   ]
  },
  {
   "cell_type": "markdown",
   "metadata": {},
   "source": [
    "Let us summarise our initial exploration:\n",
    "* woman are more likely to survive than men\n",
    "* higher class citizens are more likely to survive\n",
    "* children and the eldest passengers are more likley to survive\n",
    "* Fare and Embarked can be seen as indicators of survival probability, but they are correlated with Pclass"
   ]
  },
  {
   "cell_type": "markdown",
   "metadata": {},
   "source": [
    "## Feature engineering"
   ]
  },
  {
   "cell_type": "markdown",
   "metadata": {},
   "source": [
    "Since our dataset comprises of relatively few features, we will try and extract more information from them. In this section we will also deal with missing values."
   ]
  },
  {
   "cell_type": "markdown",
   "metadata": {},
   "source": [
    "We begin by creating a number of functions for new feature creation and feature engineering."
   ]
  },
  {
   "cell_type": "code",
   "execution_count": 26,
   "metadata": {
    "collapsed": true
   },
   "outputs": [],
   "source": [
    "def FamSize(df):\n",
    "    '''Adds a Fam(ily)Size column, the sum of siblings, spouses (SibSp), parents and children (Parch). \n",
    "     '''\n",
    "    \n",
    "    df['FamSize'] = df['SibSp'] + df['Parch']\n",
    "    return df"
   ]
  },
  {
   "cell_type": "code",
   "execution_count": 27,
   "metadata": {
    "collapsed": false
   },
   "outputs": [],
   "source": [
    "def IsAlone(df):\n",
    "    '''Adds an IsAlone column based on FamSize. Fills it with 1 if FamSize = 0 and 0 otherwise. Returns nothing'''\n",
    "    \n",
    "    df['IsAlone'] = (df['FamSize'] == 0).astype('int')\n",
    "    return df"
   ]
  },
  {
   "cell_type": "code",
   "execution_count": 28,
   "metadata": {
    "collapsed": true
   },
   "outputs": [],
   "source": [
    "def SexToInt(df):\n",
    "    '''Converts sex column to integers.\n",
    "    Male -> 1\n",
    "    Female -> 0\n",
    "     \n",
    "    '''\n",
    "    df['Sex'] = df['Sex'].apply(lambda x: 1 if x == 'male' else 0)\n",
    "    #df['Sex'] = (df.query('Sex == \"male\"')).astype(int)\n",
    "    return df"
   ]
  },
  {
   "cell_type": "markdown",
   "metadata": {},
   "source": [
    "Since Embarked and Pclass are categorical features, we want to one hot encode them."
   ]
  },
  {
   "cell_type": "code",
   "execution_count": 29,
   "metadata": {
    "collapsed": true
   },
   "outputs": [],
   "source": [
    "def OneHot(df, columns = ['Embarked','Pclass']):\n",
    "    \n",
    "    '''One hot encodes columns'''\n",
    "    \n",
    "    df = pd.get_dummies(df, columns= columns)\n",
    "    return df"
   ]
  },
  {
   "cell_type": "markdown",
   "metadata": {},
   "source": [
    "We decided to drop Ticket and Cabin columns, as well as SibSp and Parch which are replaced by FamSize."
   ]
  },
  {
   "cell_type": "code",
   "execution_count": 30,
   "metadata": {
    "collapsed": true
   },
   "outputs": [],
   "source": [
    "def DropUnwanted(df, columns = ['Ticket', 'SibSp','Parch', 'Cabin']):\n",
    "    '''Drops columns from df'''\n",
    "    \n",
    "    df.drop(columns, inplace=True, axis = 1)\n",
    "    return df"
   ]
  },
  {
   "cell_type": "markdown",
   "metadata": {},
   "source": [
    "Let's take a closer look at Name column and see what can we extract from it."
   ]
  },
  {
   "cell_type": "code",
   "execution_count": 476,
   "metadata": {
    "collapsed": false
   },
   "outputs": [
    {
     "data": {
      "text/plain": [
       "array(['Hickman, Mr. Lewis', 'Dantcheff, Mr. Ristiu',\n",
       "       'Leader, Dr. Alice (Farnham)',\n",
       "       'Thayer, Mrs. John Borland (Marian Longstreth Morris)',\n",
       "       'Garfirth, Mr. John', 'de Pelsmaeker, Mr. Alfons',\n",
       "       'Johnson, Miss. Eleanor Ileen',\n",
       "       'Cardeza, Mr. Thomas Drake Martinez',\n",
       "       'Baclini, Miss. Marie Catherine', 'Lulic, Mr. Nikola',\n",
       "       'Lang, Mr. Fang', 'Lovell, Mr. John Hall (\"Henry\")',\n",
       "       'Francatelli, Miss. Laura Mabel', 'Davies, Mr. Charles Henry',\n",
       "       'Wheadon, Mr. Edward H', 'Sundman, Mr. Johan Julian',\n",
       "       'Coleff, Mr. Satio', 'Goodwin, Master. Harold Victor',\n",
       "       'Mangan, Miss. Mary', 'McMahon, Mr. Martin'], dtype=object)"
      ]
     },
     "execution_count": 476,
     "metadata": {},
     "output_type": "execute_result"
    }
   ],
   "source": [
    "sample = np.random.randint(len(raw_train['Name'].unique()), size = 20)\n",
    "raw_train['Name'].unique()[sample]"
   ]
  },
  {
   "cell_type": "markdown",
   "metadata": {},
   "source": [
    "Each name has a title associated with it, and some titles reveal upper social status or marital status of women. Let's extract these titles!"
   ]
  },
  {
   "cell_type": "code",
   "execution_count": 509,
   "metadata": {
    "collapsed": false
   },
   "outputs": [
    {
     "data": {
      "text/plain": [
       "Mr.          517\n",
       "Miss.        182\n",
       "Mrs.         125\n",
       "Master.       40\n",
       "Dr.            7\n",
       "Rev.           6\n",
       "Col.           2\n",
       "Major.         2\n",
       "Mlle.          2\n",
       "Countess.      1\n",
       "Capt.          1\n",
       "Mme.           1\n",
       "Lady.          1\n",
       "Jonkheer.      1\n",
       "Ms.            1\n",
       "Don.           1\n",
       "Sir.           1\n",
       "Name: Name, dtype: int64"
      ]
     },
     "execution_count": 509,
     "metadata": {},
     "output_type": "execute_result"
    }
   ],
   "source": [
    "titles = raw_train['Name'].str.extract(r'(\\w+\\.)')\n",
    "titles.value_counts()"
   ]
  },
  {
   "cell_type": "markdown",
   "metadata": {},
   "source": [
    "Let's also examine how these titles correlate with survival rate."
   ]
  },
  {
   "cell_type": "code",
   "execution_count": 494,
   "metadata": {
    "collapsed": false
   },
   "outputs": [
    {
     "data": {
      "text/html": [
       "<div>\n",
       "<table border=\"1\" class=\"dataframe\">\n",
       "  <thead>\n",
       "    <tr style=\"text-align: right;\">\n",
       "      <th>Name</th>\n",
       "      <th>Capt.</th>\n",
       "      <th>Col.</th>\n",
       "      <th>Countess.</th>\n",
       "      <th>Don.</th>\n",
       "      <th>Dr.</th>\n",
       "      <th>Jonkheer.</th>\n",
       "      <th>Lady.</th>\n",
       "      <th>Major.</th>\n",
       "      <th>Master.</th>\n",
       "      <th>Miss.</th>\n",
       "      <th>Mlle.</th>\n",
       "      <th>Mme.</th>\n",
       "      <th>Mr.</th>\n",
       "      <th>Mrs.</th>\n",
       "      <th>Ms.</th>\n",
       "      <th>Rev.</th>\n",
       "      <th>Sir.</th>\n",
       "    </tr>\n",
       "  </thead>\n",
       "  <tbody>\n",
       "    <tr>\n",
       "      <th>Survived</th>\n",
       "      <td>0.0</td>\n",
       "      <td>0.5</td>\n",
       "      <td>1.0</td>\n",
       "      <td>0.0</td>\n",
       "      <td>0.428571</td>\n",
       "      <td>0.0</td>\n",
       "      <td>1.0</td>\n",
       "      <td>0.5</td>\n",
       "      <td>0.575</td>\n",
       "      <td>0.697802</td>\n",
       "      <td>1.0</td>\n",
       "      <td>1.0</td>\n",
       "      <td>0.156673</td>\n",
       "      <td>0.792</td>\n",
       "      <td>1.0</td>\n",
       "      <td>0.0</td>\n",
       "      <td>1.0</td>\n",
       "    </tr>\n",
       "  </tbody>\n",
       "</table>\n",
       "</div>"
      ],
      "text/plain": [
       "Name      Capt.  Col.  Countess.  Don.       Dr.  Jonkheer.  Lady.  Major.  \\\n",
       "Survived    0.0   0.5        1.0   0.0  0.428571        0.0    1.0     0.5   \n",
       "\n",
       "Name      Master.     Miss.  Mlle.  Mme.       Mr.   Mrs.  Ms.  Rev.  Sir.  \n",
       "Survived    0.575  0.697802    1.0   1.0  0.156673  0.792  1.0   0.0   1.0  "
      ]
     },
     "execution_count": 494,
     "metadata": {},
     "output_type": "execute_result"
    }
   ],
   "source": [
    "pd.concat([titles, raw_train['Survived']], axis=1).groupby('Name').mean().T"
   ]
  },
  {
   "cell_type": "markdown",
   "metadata": {},
   "source": [
    "Women as well as some of the less frequent titles seem to be more likely to survive than average. Unsurprisingly, the Captain has sunk with his ship :("
   ]
  },
  {
   "cell_type": "markdown",
   "metadata": {},
   "source": [
    "Based on the tables above, we will create a feature for each of the following:\n",
    "* title Mr\n",
    "* married women (titles: Mrs and Ms(this one is not quite correct, but there is only one Ms))\n",
    "* unmarried women (titles: Miss and Mme)\n",
    "* Master\n",
    "* other titles (this shouldn't really include captain, but there's only one such person so we'll leave him here, as he won't appear in the test set anyway)"
   ]
  },
  {
   "cell_type": "code",
   "execution_count": 34,
   "metadata": {
    "collapsed": true
   },
   "outputs": [],
   "source": [
    "def Title(df):\n",
    "    '''Extracts titles and maps them into one of 5 categorical features'''\n",
    "    \n",
    "    df['Title'] = df['Name'].str.extract(r'(\\w+\\.)')\n",
    "    \n",
    "    titles = ['Don.', 'Rev.', 'Dr.', 'Major.', 'Lady.', 'Sir.', 'Col.', 'Capt.', 'Countees.',' Jonkheer.']\n",
    "\n",
    "    df['Master'] = df['Title'].apply(lambda x: 1 if x == 'Master.' else 0)\n",
    "    df['Mr'] = df['Title'].apply(lambda x: 1 if x == 'Mr.' else 0)\n",
    "    df['Unnmmaried woman'] = df['Title'].apply(lambda x: 1 if x in ['Miss.','Mme.'] else 0)\n",
    "    df['Married woman'] = df['Title'].apply(lambda x: 1 if x in ['Mrs.','Ms.'] else 0)\n",
    "    df['Other title'] = df['Title'].apply(lambda x: 1 if x in titles else 0)\n",
    "    \n",
    "    df.drop(['Name','Title'], inplace=True, axis = 1)\n",
    "    return df"
   ]
  },
  {
   "cell_type": "markdown",
   "metadata": {},
   "source": [
    "Now we will write three functions for imputation of missing data. Recall that training set had missing ages and embark values, while the testing set had missing ages and fares."
   ]
  },
  {
   "cell_type": "code",
   "execution_count": 35,
   "metadata": {
    "collapsed": true
   },
   "outputs": [],
   "source": [
    "def ImputeAge(df):\n",
    "    ''' Fills missing values of age with the mean for passengers grouped by sex and Pclass'''\n",
    "\n",
    "    df[\"Age\"] = df.groupby(['Pclass','Sex'])['Age'].transform(lambda x: x.fillna(x.mean()))\n",
    "    return df"
   ]
  },
  {
   "cell_type": "code",
   "execution_count": 36,
   "metadata": {
    "collapsed": true
   },
   "outputs": [],
   "source": [
    "def ImputeEmbarked(df):\n",
    "    '''Fills missing values of Embarked with the mode for passengers grouped by given Pclass'''\n",
    "    \n",
    "    df['Embarked'] = df.groupby(['Pclass'])['Embarked'].transform(lambda x: x.mode()[0])    \n",
    "    return df"
   ]
  },
  {
   "cell_type": "code",
   "execution_count": 37,
   "metadata": {
    "collapsed": true
   },
   "outputs": [],
   "source": [
    "def ImputeFare(df):\n",
    "    '''Fills missing values of Fare with the median for passengers grouped by Sex and Pclass'''\n",
    "    \n",
    "    df['Fare'] = df.groupby(['Pclass','Sex']).transform(lambda x: x.fillna(x.median()))\n",
    "    return df"
   ]
  },
  {
   "cell_type": "markdown",
   "metadata": {},
   "source": [
    "Finally we split fare into 4 quantiles and one hot encode them."
   ]
  },
  {
   "cell_type": "code",
   "execution_count": 38,
   "metadata": {
    "collapsed": true
   },
   "outputs": [],
   "source": [
    "def FareQuantiles(df):\n",
    "    '''Cuts columns into 4 quantiles and one hot encode them\n",
    "    df - data frame\n",
    "    column - str'''\n",
    "    \n",
    "    df['Fare'] = pd.qcut(df['Fare'],4)\n",
    "    df = pd.get_dummies(df, columns= ['Fare'])\n",
    "    return df"
   ]
  },
  {
   "cell_type": "code",
   "execution_count": 39,
   "metadata": {
    "collapsed": true
   },
   "outputs": [],
   "source": [
    "# Initially we planned on extracting decks from Cabin column. \n",
    "# This has actually deteriorated our public LB scores, so we decided to drop Cabin column altogether\n",
    "\n",
    "# def Decks(df):\n",
    "#     '''First fill missing values of Cabin with U (unknown). Then extract deck letters from cabin numbers \n",
    "#     (eg B38 is cabin 38 on deck B). Finally, one hot encode the decks. Returns nothing'''\n",
    "    \n",
    "#     df['Cabin'].fillna('U', inplace = True)\n",
    "#     df['Deck'] = df['Cabin'].str.extract('([A-Za-z])')\n",
    "#     df = pd.get_dummies(df, columns= ['Deck'])\n",
    "    \n",
    "#     df.drop('Cabin', inplace=True, axis = 1)\n",
    "#     return df"
   ]
  },
  {
   "cell_type": "markdown",
   "metadata": {},
   "source": [
    "Having all needed functions in place, we can transform our raw data."
   ]
  },
  {
   "cell_type": "markdown",
   "metadata": {},
   "source": [
    "First perform missing data imputation separately on train and test data. This way we avoid information leak from testing set to training set."
   ]
  },
  {
   "cell_type": "code",
   "execution_count": 495,
   "metadata": {
    "collapsed": false
   },
   "outputs": [],
   "source": [
    "ImputeAge(raw_test)\n",
    "ImputeAge(raw_train)\n",
    "ImputeEmbarked(raw_train)\n",
    "ImputeFare(raw_test);"
   ]
  },
  {
   "cell_type": "markdown",
   "metadata": {},
   "source": [
    "Let's see if our functions worked."
   ]
  },
  {
   "cell_type": "code",
   "execution_count": 496,
   "metadata": {
    "collapsed": false
   },
   "outputs": [
    {
     "data": {
      "text/plain": [
       "PassengerId      0\n",
       "Pclass           0\n",
       "Name             0\n",
       "Sex              0\n",
       "Age              0\n",
       "SibSp            0\n",
       "Parch            0\n",
       "Ticket           0\n",
       "Fare             0\n",
       "Cabin          327\n",
       "Embarked         0\n",
       "dtype: int64"
      ]
     },
     "execution_count": 496,
     "metadata": {},
     "output_type": "execute_result"
    }
   ],
   "source": [
    "raw_test.isnull().sum()"
   ]
  },
  {
   "cell_type": "code",
   "execution_count": 497,
   "metadata": {
    "collapsed": false
   },
   "outputs": [
    {
     "data": {
      "text/plain": [
       "PassengerId      0\n",
       "Survived         0\n",
       "Pclass           0\n",
       "Name             0\n",
       "Sex              0\n",
       "Age              0\n",
       "SibSp            0\n",
       "Parch            0\n",
       "Ticket           0\n",
       "Fare             0\n",
       "Cabin          687\n",
       "Embarked         0\n",
       "dtype: int64"
      ]
     },
     "execution_count": 497,
     "metadata": {},
     "output_type": "execute_result"
    }
   ],
   "source": [
    "raw_train.isnull().sum()"
   ]
  },
  {
   "cell_type": "markdown",
   "metadata": {},
   "source": [
    "As expected, only the cabins are missing at this stage."
   ]
  },
  {
   "cell_type": "markdown",
   "metadata": {},
   "source": [
    "For the remainder of the transformations, lets combine the train and test sets and transform them together."
   ]
  },
  {
   "cell_type": "code",
   "execution_count": 510,
   "metadata": {
    "collapsed": false
   },
   "outputs": [],
   "source": [
    "raw_test['Survived'] = np.nan\n",
    "combined = pd.concat([raw_train,raw_test])\n",
    "\n",
    "combined = FamSize(combined)\n",
    "combined = IsAlone(combined)\n",
    "combined = SexToInt(combined)\n",
    "combined = OneHot(combined)\n",
    "combined = FareQuantiles(combined)\n",
    "combined = Title(combined)\n",
    "combined = DropUnwanted(combined)"
   ]
  },
  {
   "cell_type": "code",
   "execution_count": 499,
   "metadata": {
    "collapsed": false
   },
   "outputs": [
    {
     "data": {
      "text/plain": [
       "Index(['Age', 'PassengerId', 'Sex', 'Survived', 'FamSize', 'IsAlone',\n",
       "       'Embarked_C', 'Embarked_Q', 'Embarked_S', 'Pclass_1', 'Pclass_2',\n",
       "       'Pclass_3', 'Fare_[0, 9.5]', 'Fare_(9.5, 30]', 'Fare_(30, 982]',\n",
       "       'Fare_(982, 1309]', 'Master', 'Mr', 'Unnmmaried woman', 'Married woman',\n",
       "       'Other title'],\n",
       "      dtype='object')"
      ]
     },
     "execution_count": 499,
     "metadata": {},
     "output_type": "execute_result"
    }
   ],
   "source": [
    "combined.columns"
   ]
  },
  {
   "cell_type": "markdown",
   "metadata": {},
   "source": [
    "Let's split the dataset into train and test again."
   ]
  },
  {
   "cell_type": "code",
   "execution_count": 511,
   "metadata": {
    "collapsed": false
   },
   "outputs": [],
   "source": [
    "Xtrain = combined.iloc[raw_train.index]\n",
    "Xtrain.drop('PassengerId', inplace = True, axis = 1)\n",
    "ytrain = Xtrain.pop('Survived')\n",
    "Xtest = combined.iloc[raw_test.index + len(raw_train.index)]\n",
    "Xtest.drop('Survived', inplace = True, axis = 1)"
   ]
  },
  {
   "cell_type": "code",
   "execution_count": 501,
   "metadata": {
    "collapsed": false
   },
   "outputs": [
    {
     "data": {
      "text/html": [
       "<div>\n",
       "<table border=\"1\" class=\"dataframe\">\n",
       "  <thead>\n",
       "    <tr style=\"text-align: right;\">\n",
       "      <th></th>\n",
       "      <th>Age</th>\n",
       "      <th>Sex</th>\n",
       "      <th>FamSize</th>\n",
       "      <th>IsAlone</th>\n",
       "      <th>Embarked_C</th>\n",
       "      <th>Embarked_Q</th>\n",
       "      <th>Embarked_S</th>\n",
       "      <th>Pclass_1</th>\n",
       "      <th>Pclass_2</th>\n",
       "      <th>Pclass_3</th>\n",
       "      <th>Fare_[0, 9.5]</th>\n",
       "      <th>Fare_(9.5, 30]</th>\n",
       "      <th>Fare_(30, 982]</th>\n",
       "      <th>Fare_(982, 1309]</th>\n",
       "      <th>Master</th>\n",
       "      <th>Mr</th>\n",
       "      <th>Unnmmaried woman</th>\n",
       "      <th>Married woman</th>\n",
       "      <th>Other title</th>\n",
       "    </tr>\n",
       "  </thead>\n",
       "  <tbody>\n",
       "    <tr>\n",
       "      <th>0</th>\n",
       "      <td>22.0</td>\n",
       "      <td>1</td>\n",
       "      <td>1</td>\n",
       "      <td>0</td>\n",
       "      <td>0</td>\n",
       "      <td>0</td>\n",
       "      <td>1</td>\n",
       "      <td>0</td>\n",
       "      <td>0</td>\n",
       "      <td>1</td>\n",
       "      <td>1</td>\n",
       "      <td>0</td>\n",
       "      <td>0</td>\n",
       "      <td>0</td>\n",
       "      <td>0</td>\n",
       "      <td>1</td>\n",
       "      <td>0</td>\n",
       "      <td>0</td>\n",
       "      <td>0</td>\n",
       "    </tr>\n",
       "    <tr>\n",
       "      <th>1</th>\n",
       "      <td>38.0</td>\n",
       "      <td>0</td>\n",
       "      <td>1</td>\n",
       "      <td>0</td>\n",
       "      <td>0</td>\n",
       "      <td>0</td>\n",
       "      <td>1</td>\n",
       "      <td>1</td>\n",
       "      <td>0</td>\n",
       "      <td>0</td>\n",
       "      <td>0</td>\n",
       "      <td>0</td>\n",
       "      <td>1</td>\n",
       "      <td>0</td>\n",
       "      <td>0</td>\n",
       "      <td>0</td>\n",
       "      <td>0</td>\n",
       "      <td>1</td>\n",
       "      <td>0</td>\n",
       "    </tr>\n",
       "    <tr>\n",
       "      <th>2</th>\n",
       "      <td>26.0</td>\n",
       "      <td>0</td>\n",
       "      <td>0</td>\n",
       "      <td>1</td>\n",
       "      <td>0</td>\n",
       "      <td>0</td>\n",
       "      <td>1</td>\n",
       "      <td>0</td>\n",
       "      <td>0</td>\n",
       "      <td>1</td>\n",
       "      <td>1</td>\n",
       "      <td>0</td>\n",
       "      <td>0</td>\n",
       "      <td>0</td>\n",
       "      <td>0</td>\n",
       "      <td>0</td>\n",
       "      <td>1</td>\n",
       "      <td>0</td>\n",
       "      <td>0</td>\n",
       "    </tr>\n",
       "    <tr>\n",
       "      <th>3</th>\n",
       "      <td>35.0</td>\n",
       "      <td>0</td>\n",
       "      <td>1</td>\n",
       "      <td>0</td>\n",
       "      <td>0</td>\n",
       "      <td>0</td>\n",
       "      <td>1</td>\n",
       "      <td>1</td>\n",
       "      <td>0</td>\n",
       "      <td>0</td>\n",
       "      <td>0</td>\n",
       "      <td>0</td>\n",
       "      <td>1</td>\n",
       "      <td>0</td>\n",
       "      <td>0</td>\n",
       "      <td>0</td>\n",
       "      <td>0</td>\n",
       "      <td>1</td>\n",
       "      <td>0</td>\n",
       "    </tr>\n",
       "    <tr>\n",
       "      <th>4</th>\n",
       "      <td>35.0</td>\n",
       "      <td>1</td>\n",
       "      <td>0</td>\n",
       "      <td>1</td>\n",
       "      <td>0</td>\n",
       "      <td>0</td>\n",
       "      <td>1</td>\n",
       "      <td>0</td>\n",
       "      <td>0</td>\n",
       "      <td>1</td>\n",
       "      <td>1</td>\n",
       "      <td>0</td>\n",
       "      <td>0</td>\n",
       "      <td>0</td>\n",
       "      <td>0</td>\n",
       "      <td>1</td>\n",
       "      <td>0</td>\n",
       "      <td>0</td>\n",
       "      <td>0</td>\n",
       "    </tr>\n",
       "  </tbody>\n",
       "</table>\n",
       "</div>"
      ],
      "text/plain": [
       "    Age  Sex  FamSize  IsAlone  Embarked_C  Embarked_Q  Embarked_S  Pclass_1  \\\n",
       "0  22.0    1        1        0           0           0           1         0   \n",
       "1  38.0    0        1        0           0           0           1         1   \n",
       "2  26.0    0        0        1           0           0           1         0   \n",
       "3  35.0    0        1        0           0           0           1         1   \n",
       "4  35.0    1        0        1           0           0           1         0   \n",
       "\n",
       "   Pclass_2  Pclass_3  Fare_[0, 9.5]  Fare_(9.5, 30]  Fare_(30, 982]  \\\n",
       "0         0         1              1               0               0   \n",
       "1         0         0              0               0               1   \n",
       "2         0         1              1               0               0   \n",
       "3         0         0              0               0               1   \n",
       "4         0         1              1               0               0   \n",
       "\n",
       "   Fare_(982, 1309]  Master  Mr  Unnmmaried woman  Married woman  Other title  \n",
       "0                 0       0   1                 0              0            0  \n",
       "1                 0       0   0                 0              1            0  \n",
       "2                 0       0   0                 1              0            0  \n",
       "3                 0       0   0                 0              1            0  \n",
       "4                 0       0   1                 0              0            0  "
      ]
     },
     "execution_count": 501,
     "metadata": {},
     "output_type": "execute_result"
    }
   ],
   "source": [
    "Xtrain.head()"
   ]
  },
  {
   "cell_type": "code",
   "execution_count": 502,
   "metadata": {
    "collapsed": false
   },
   "outputs": [
    {
     "data": {
      "text/plain": [
       "0    0.0\n",
       "1    1.0\n",
       "2    1.0\n",
       "3    1.0\n",
       "4    0.0\n",
       "Name: Survived, dtype: float64"
      ]
     },
     "execution_count": 502,
     "metadata": {},
     "output_type": "execute_result"
    }
   ],
   "source": [
    "ytrain.head()"
   ]
  },
  {
   "cell_type": "code",
   "execution_count": 503,
   "metadata": {
    "collapsed": false
   },
   "outputs": [
    {
     "data": {
      "text/html": [
       "<div>\n",
       "<table border=\"1\" class=\"dataframe\">\n",
       "  <thead>\n",
       "    <tr style=\"text-align: right;\">\n",
       "      <th></th>\n",
       "      <th>Age</th>\n",
       "      <th>PassengerId</th>\n",
       "      <th>Sex</th>\n",
       "      <th>FamSize</th>\n",
       "      <th>IsAlone</th>\n",
       "      <th>Embarked_C</th>\n",
       "      <th>Embarked_Q</th>\n",
       "      <th>Embarked_S</th>\n",
       "      <th>Pclass_1</th>\n",
       "      <th>Pclass_2</th>\n",
       "      <th>Pclass_3</th>\n",
       "      <th>Fare_[0, 9.5]</th>\n",
       "      <th>Fare_(9.5, 30]</th>\n",
       "      <th>Fare_(30, 982]</th>\n",
       "      <th>Fare_(982, 1309]</th>\n",
       "      <th>Master</th>\n",
       "      <th>Mr</th>\n",
       "      <th>Unnmmaried woman</th>\n",
       "      <th>Married woman</th>\n",
       "      <th>Other title</th>\n",
       "    </tr>\n",
       "  </thead>\n",
       "  <tbody>\n",
       "    <tr>\n",
       "      <th>0</th>\n",
       "      <td>34.5</td>\n",
       "      <td>892</td>\n",
       "      <td>1</td>\n",
       "      <td>0</td>\n",
       "      <td>1</td>\n",
       "      <td>0</td>\n",
       "      <td>1</td>\n",
       "      <td>0</td>\n",
       "      <td>0</td>\n",
       "      <td>0</td>\n",
       "      <td>1</td>\n",
       "      <td>0</td>\n",
       "      <td>0</td>\n",
       "      <td>1</td>\n",
       "      <td>0</td>\n",
       "      <td>0</td>\n",
       "      <td>1</td>\n",
       "      <td>0</td>\n",
       "      <td>0</td>\n",
       "      <td>0</td>\n",
       "    </tr>\n",
       "    <tr>\n",
       "      <th>1</th>\n",
       "      <td>47.0</td>\n",
       "      <td>893</td>\n",
       "      <td>0</td>\n",
       "      <td>1</td>\n",
       "      <td>0</td>\n",
       "      <td>0</td>\n",
       "      <td>0</td>\n",
       "      <td>1</td>\n",
       "      <td>0</td>\n",
       "      <td>0</td>\n",
       "      <td>1</td>\n",
       "      <td>0</td>\n",
       "      <td>0</td>\n",
       "      <td>1</td>\n",
       "      <td>0</td>\n",
       "      <td>0</td>\n",
       "      <td>0</td>\n",
       "      <td>0</td>\n",
       "      <td>1</td>\n",
       "      <td>0</td>\n",
       "    </tr>\n",
       "    <tr>\n",
       "      <th>2</th>\n",
       "      <td>62.0</td>\n",
       "      <td>894</td>\n",
       "      <td>1</td>\n",
       "      <td>0</td>\n",
       "      <td>1</td>\n",
       "      <td>0</td>\n",
       "      <td>1</td>\n",
       "      <td>0</td>\n",
       "      <td>0</td>\n",
       "      <td>1</td>\n",
       "      <td>0</td>\n",
       "      <td>0</td>\n",
       "      <td>0</td>\n",
       "      <td>1</td>\n",
       "      <td>0</td>\n",
       "      <td>0</td>\n",
       "      <td>1</td>\n",
       "      <td>0</td>\n",
       "      <td>0</td>\n",
       "      <td>0</td>\n",
       "    </tr>\n",
       "    <tr>\n",
       "      <th>3</th>\n",
       "      <td>27.0</td>\n",
       "      <td>895</td>\n",
       "      <td>1</td>\n",
       "      <td>0</td>\n",
       "      <td>1</td>\n",
       "      <td>0</td>\n",
       "      <td>0</td>\n",
       "      <td>1</td>\n",
       "      <td>0</td>\n",
       "      <td>0</td>\n",
       "      <td>1</td>\n",
       "      <td>0</td>\n",
       "      <td>0</td>\n",
       "      <td>1</td>\n",
       "      <td>0</td>\n",
       "      <td>0</td>\n",
       "      <td>1</td>\n",
       "      <td>0</td>\n",
       "      <td>0</td>\n",
       "      <td>0</td>\n",
       "    </tr>\n",
       "    <tr>\n",
       "      <th>4</th>\n",
       "      <td>22.0</td>\n",
       "      <td>896</td>\n",
       "      <td>0</td>\n",
       "      <td>2</td>\n",
       "      <td>0</td>\n",
       "      <td>0</td>\n",
       "      <td>0</td>\n",
       "      <td>1</td>\n",
       "      <td>0</td>\n",
       "      <td>0</td>\n",
       "      <td>1</td>\n",
       "      <td>0</td>\n",
       "      <td>0</td>\n",
       "      <td>1</td>\n",
       "      <td>0</td>\n",
       "      <td>0</td>\n",
       "      <td>0</td>\n",
       "      <td>0</td>\n",
       "      <td>1</td>\n",
       "      <td>0</td>\n",
       "    </tr>\n",
       "  </tbody>\n",
       "</table>\n",
       "</div>"
      ],
      "text/plain": [
       "    Age  PassengerId  Sex  FamSize  IsAlone  Embarked_C  Embarked_Q  \\\n",
       "0  34.5          892    1        0        1           0           1   \n",
       "1  47.0          893    0        1        0           0           0   \n",
       "2  62.0          894    1        0        1           0           1   \n",
       "3  27.0          895    1        0        1           0           0   \n",
       "4  22.0          896    0        2        0           0           0   \n",
       "\n",
       "   Embarked_S  Pclass_1  Pclass_2  Pclass_3  Fare_[0, 9.5]  Fare_(9.5, 30]  \\\n",
       "0           0         0         0         1              0               0   \n",
       "1           1         0         0         1              0               0   \n",
       "2           0         0         1         0              0               0   \n",
       "3           1         0         0         1              0               0   \n",
       "4           1         0         0         1              0               0   \n",
       "\n",
       "   Fare_(30, 982]  Fare_(982, 1309]  Master  Mr  Unnmmaried woman  \\\n",
       "0               1                 0       0   1                 0   \n",
       "1               1                 0       0   0                 0   \n",
       "2               1                 0       0   1                 0   \n",
       "3               1                 0       0   1                 0   \n",
       "4               1                 0       0   0                 0   \n",
       "\n",
       "   Married woman  Other title  \n",
       "0              0            0  \n",
       "1              1            0  \n",
       "2              0            0  \n",
       "3              0            0  \n",
       "4              1            0  "
      ]
     },
     "execution_count": 503,
     "metadata": {},
     "output_type": "execute_result"
    }
   ],
   "source": [
    "Xtest.head()"
   ]
  },
  {
   "cell_type": "markdown",
   "metadata": {},
   "source": [
    "Finally, let's examine how family size and travelling alone correlates with survival."
   ]
  },
  {
   "cell_type": "code",
   "execution_count": 504,
   "metadata": {
    "collapsed": false
   },
   "outputs": [
    {
     "data": {
      "text/plain": [
       "FamSize\n",
       "0     0.303538\n",
       "1     0.552795\n",
       "2     0.578431\n",
       "3     0.724138\n",
       "4     0.200000\n",
       "5     0.136364\n",
       "6     0.333333\n",
       "7     0.000000\n",
       "10    0.000000\n",
       "Name: Survived, dtype: float64"
      ]
     },
     "execution_count": 504,
     "metadata": {},
     "output_type": "execute_result"
    }
   ],
   "source": [
    "Xtrain.join(ytrain).groupby('FamSize')['Survived'].mean()"
   ]
  },
  {
   "cell_type": "code",
   "execution_count": 505,
   "metadata": {
    "collapsed": false
   },
   "outputs": [
    {
     "data": {
      "text/plain": [
       "IsAlone\n",
       "0    0.505650\n",
       "1    0.303538\n",
       "Name: Survived, dtype: float64"
      ]
     },
     "execution_count": 505,
     "metadata": {},
     "output_type": "execute_result"
    }
   ],
   "source": [
    "Xtrain.join(ytrain).groupby('IsAlone')['Survived'].mean()"
   ]
  },
  {
   "cell_type": "markdown",
   "metadata": {},
   "source": [
    "We observe that lone travellers are less likely to survive than people travelling with family, and people with familyy of size 1-3 are most likely to survive. Having a large family makes you even less likely to surive than travelling solo."
   ]
  },
  {
   "cell_type": "markdown",
   "metadata": {},
   "source": [
    "## Model selection"
   ]
  },
  {
   "cell_type": "markdown",
   "metadata": {},
   "source": [
    "In this section we train a number of classification models."
   ]
  },
  {
   "cell_type": "markdown",
   "metadata": {},
   "source": [
    "Let's begin by importing necessary sklearn functions."
   ]
  },
  {
   "cell_type": "code",
   "execution_count": 392,
   "metadata": {
    "collapsed": true
   },
   "outputs": [],
   "source": [
    "#import cross validation and grid search tools\n",
    "from sklearn.model_selection import GridSearchCV\n",
    "\n",
    "#import classifiers\n",
    "from sklearn.naive_bayes import GaussianNB, MultinomialNB\n",
    "from sklearn.neighbors import KNeighborsClassifier\n",
    "from sklearn.ensemble import RandomForestClassifier\n",
    "from sklearn.svm import SVC\n",
    "from sklearn.linear_model import LogisticRegression"
   ]
  },
  {
   "cell_type": "markdown",
   "metadata": {},
   "source": [
    "Initially we planned on using nested cross validation go estimate the performance of our models on previously unseen data. This approach turned out to be too expensive computationally."
   ]
  },
  {
   "cell_type": "code",
   "execution_count": 52,
   "metadata": {
    "collapsed": true
   },
   "outputs": [],
   "source": [
    "# from sklearn.model_selection import StratifiesKfold\n",
    "#\n",
    "# def nested_cros_val(clf, p_grid, num_trials = 20, inner_folds = 5, outer_folds = 3):\n",
    "#     '''\n",
    "#     Performs a nested cross validation\n",
    "#     clf - sklearn classifier\n",
    "#     p_grid - dict, parameter grid\n",
    "#     num_trials - int, number of times to repeat nested cross validation\n",
    "#     inner_folds - int, number of inner cv folds\n",
    "#     outer_folds - int, number of outer cv folds\n",
    "#     Returns an array of mean scores in each trial\n",
    "#     '''\n",
    "#     nested_scores = np.zeros(num_trials)\n",
    "\n",
    "#     for i in range(num_trials):\n",
    "      \n",
    "#         inner_cv = StratifiedKFold(n_splits = inner_folds, shuffle = True, random_state = i)\n",
    "#         outer_cv = StratifiedKFold(n_splits = outer_folds, shuffle = True, random_state = i)\n",
    "        \n",
    "#         grid = GridSearchCV(estimator = clf, param_grid=p_grid, cv = inner_cv.split(Xtrain,ytrain))\n",
    "    \n",
    "#         # Nested CV \n",
    "#         nested_score = cross_val_score(grid, X=Xtrain, y=ytrain, cv = outer_cv.split(Xtrain,ytrain))\n",
    "#         nested_scores[i] = nested_score.mean()\n",
    "    \n",
    "#     return nested_scores"
   ]
  },
  {
   "cell_type": "markdown",
   "metadata": {},
   "source": [
    "Let's write a function for finding optimal hyperparameters and fitting the opimtal model to the entire training set."
   ]
  },
  {
   "cell_type": "code",
   "execution_count": 410,
   "metadata": {
    "collapsed": true
   },
   "outputs": [],
   "source": [
    "def tune_and_fit(clf, p_grid, cv = 5, X_train = Xtrain, y_train = ytrain):\n",
    "    '''Performs grid search over p_grid with cv-fold cross validation.\n",
    "    Returns the best model found fitted on the entire data set.\n",
    "    clf - sklearn classifier\n",
    "    p_grid - dict, parameters grid\n",
    "    cv - int, number of folds in cross validation\n",
    "    '''\n",
    "    \n",
    "    grid = GridSearchCV(clf, param_grid = p_grid, cv = cv, n_jobs = -1, scoring='accuracy', )\n",
    "    grid.fit(X_train,y_train)\n",
    "    print('Best parameters found: ')\n",
    "    print(grid.best_params_)\n",
    "    print('\\n Best score:')\n",
    "    print(grid.best_score_)\n",
    "    \n",
    "    return grid.best_estimator_"
   ]
  },
  {
   "cell_type": "markdown",
   "metadata": {},
   "source": [
    "Below is a function which automates generating submission files from our models."
   ]
  },
  {
   "cell_type": "code",
   "execution_count": 411,
   "metadata": {
    "collapsed": true
   },
   "outputs": [],
   "source": [
    "def make_submission(model, filename = 'submission', X_test = Xtest):\n",
    "    '''Saves passenger id and survival predictions to filename.csv Takes fitted model as input, returns nothing.\n",
    "    filename - str\n",
    "    '''\n",
    "        \n",
    "    try:\n",
    "        Xtest.drop('Survived', axis =1, inplace = True)\n",
    "    except ValueError:\n",
    "        pass\n",
    "    \n",
    "    predictions = model.predict(X_test.drop('PassengerId',axis = 1))\n",
    "    Xtest['Survived'] = predictions.astype('int')\n",
    "    Xtest[['PassengerId','Survived']].to_csv('{}.csv'.format(filename), index = False)"
   ]
  },
  {
   "cell_type": "markdown",
   "metadata": {},
   "source": [
    "Now that we have all function needed for model selection in place, let's use them on a number of standard classifiers."
   ]
  },
  {
   "cell_type": "markdown",
   "metadata": {},
   "source": [
    "Let's start by obtaining a baseline via GaussianNB and MultinomialNB (a lot of features take values 0,1 so multinomial NB seems like a good idea)."
   ]
  },
  {
   "cell_type": "code",
   "execution_count": 55,
   "metadata": {
    "collapsed": false
   },
   "outputs": [
    {
     "name": "stdout",
     "output_type": "stream",
     "text": [
      "GaussianNB 0.776709659276\n",
      "MultinomialNB 0.752065528354\n"
     ]
    }
   ],
   "source": [
    "print('GaussianNB',cross_val_score(GaussianNB(),Xtrain,ytrain,cv = 5).mean())\n",
    "print('MultinomialNB', cross_val_score(MultinomialNB(),Xtrain,ytrain, cv = 5).mean())"
   ]
  },
  {
   "cell_type": "markdown",
   "metadata": {},
   "source": [
    "### RandomForest"
   ]
  },
  {
   "cell_type": "code",
   "execution_count": 56,
   "metadata": {
    "collapsed": false
   },
   "outputs": [
    {
     "name": "stdout",
     "output_type": "stream",
     "text": [
      "Best parameters found: \n",
      "{'bootstrap': True, 'max_depth': 6, 'max_features': 'auto', 'min_samples_leaf': 1, 'min_samples_split': 3, 'n_estimators': 10}\n",
      "\n",
      " Best score:\n",
      "0.835016835017\n"
     ]
    }
   ],
   "source": [
    "forest_grid = {'max_depth' : [4, 6, 8,10],\n",
    "                'n_estimators': [10,50,70,100],\n",
    "                'max_features': ['sqrt', 'auto', 'log2'],\n",
    "                'min_samples_split': [2, 3, 5, 7, 10],\n",
    "                'min_samples_leaf': [1,  3, 5, 7, 10],\n",
    "                'bootstrap': [True, False],\n",
    "                 }\n",
    "forest = tune_and_fit(RandomForestClassifier(), forest_grid)"
   ]
  },
  {
   "cell_type": "code",
   "execution_count": 512,
   "metadata": {
    "collapsed": false
   },
   "outputs": [],
   "source": [
    "make_submission(forest,'submission_forest')"
   ]
  },
  {
   "cell_type": "markdown",
   "metadata": {},
   "source": [
    "This submission produced a public LB score of 0.79426"
   ]
  },
  {
   "cell_type": "markdown",
   "metadata": {},
   "source": [
    "### SVC"
   ]
  },
  {
   "cell_type": "code",
   "execution_count": 65,
   "metadata": {
    "collapsed": true
   },
   "outputs": [],
   "source": [
    "svc_grid ={'C' : [0.001,0.01,0.1,1,10,100], 'kernel' : ['linear','rbf'],\n",
    "        'class_weight' : [None,'balanced'], 'shrinking' : [True,False]}"
   ]
  },
  {
   "cell_type": "code",
   "execution_count": 66,
   "metadata": {
    "collapsed": false
   },
   "outputs": [
    {
     "name": "stdout",
     "output_type": "stream",
     "text": [
      "Best parameters found: \n",
      "{'C': 100, 'class_weight': None, 'kernel': 'linear', 'shrinking': True}\n",
      "\n",
      " Best score:\n",
      "0.830527497194\n"
     ]
    }
   ],
   "source": [
    "svc = tune_and_fit(SVC(random_state=0), svc_grid)"
   ]
  },
  {
   "cell_type": "code",
   "execution_count": 513,
   "metadata": {
    "collapsed": false
   },
   "outputs": [],
   "source": [
    "make_submission(svc,'submission_svc')"
   ]
  },
  {
   "cell_type": "markdown",
   "metadata": {},
   "source": [
    "Public LB score: 0.78469"
   ]
  },
  {
   "cell_type": "markdown",
   "metadata": {},
   "source": [
    "### MaxEnt"
   ]
  },
  {
   "cell_type": "code",
   "execution_count": 68,
   "metadata": {
    "collapsed": true
   },
   "outputs": [],
   "source": [
    "maxent_grid = {'C' : [0.001,0.01,0.1,1,10,100], 'penalty' : ['l1','l2'],\n",
    "                'class_weight' : [None,'balanced'],}"
   ]
  },
  {
   "cell_type": "code",
   "execution_count": 74,
   "metadata": {
    "collapsed": false
   },
   "outputs": [
    {
     "name": "stdout",
     "output_type": "stream",
     "text": [
      "Best parameters found: \n",
      "{'C': 1, 'class_weight': None, 'penalty': 'l2'}\n",
      "\n",
      " Best score:\n",
      "0.821548821549\n"
     ]
    }
   ],
   "source": [
    "maxent = tune_and_fit(LogisticRegression(random_state=42), maxent_grid)"
   ]
  },
  {
   "cell_type": "code",
   "execution_count": 514,
   "metadata": {
    "collapsed": false
   },
   "outputs": [],
   "source": [
    "make_submission(maxent,'submission_maxent2')"
   ]
  },
  {
   "cell_type": "markdown",
   "metadata": {},
   "source": [
    "Public LB score: 0.76555"
   ]
  },
  {
   "cell_type": "markdown",
   "metadata": {},
   "source": [
    "### KNearestNeighbours"
   ]
  },
  {
   "cell_type": "code",
   "execution_count": 71,
   "metadata": {
    "collapsed": true
   },
   "outputs": [],
   "source": [
    "knn_grid = {'n_neighbors': np.arange(5,35,1), 'weights': ['uniform', 'distance'], 'p' : [1,2]}"
   ]
  },
  {
   "cell_type": "code",
   "execution_count": 72,
   "metadata": {
    "collapsed": false
   },
   "outputs": [
    {
     "name": "stdout",
     "output_type": "stream",
     "text": [
      "Best parameters found: \n",
      "{'n_neighbors': 9, 'p': 1, 'weights': 'distance'}\n",
      "\n",
      " Best score:\n",
      "0.81593714927\n"
     ]
    }
   ],
   "source": [
    "knn = tune_and_fit(KNeighborsClassifier(), knn_grid)"
   ]
  },
  {
   "cell_type": "code",
   "execution_count": 515,
   "metadata": {
    "collapsed": false
   },
   "outputs": [],
   "source": [
    "make_submission(knn,'submission_knn')"
   ]
  },
  {
   "cell_type": "markdown",
   "metadata": {},
   "source": [
    "Public LB score: 0.74641"
   ]
  },
  {
   "cell_type": "markdown",
   "metadata": {},
   "source": [
    "# Stacking"
   ]
  },
  {
   "cell_type": "markdown",
   "metadata": {},
   "source": [
    "Let's try improving our score by stacking three best models. We follow approach from http://blog.kaggle.com/2016/12/27/a-kagglers-guide-to-model-stacking-in-practice/ with our stacking function inspired by Esemble class from https://dnc1994.com/2016/05/rank-10-percent-in-first-kaggle-competition-en/ \n"
   ]
  },
  {
   "cell_type": "code",
   "execution_count": 393,
   "metadata": {
    "collapsed": true
   },
   "outputs": [],
   "source": [
    "from sklearn.model_selection import KFold"
   ]
  },
  {
   "cell_type": "code",
   "execution_count": 438,
   "metadata": {
    "collapsed": false
   },
   "outputs": [],
   "source": [
    "def stack_test_set(base_models, col_names):\n",
    "    '''Takes a list of base_models and a list of strings. \n",
    "    Returns a data frame with i-th column (named col_names[i]) consiting of ith base model's predictions \n",
    "    of the test set'''\n",
    "    \n",
    "    S_test = np.zeros((Xtest.shape[0],len(base_models)))\n",
    "    \n",
    "    for i in range(len(base_models)):\n",
    "        \n",
    "        base_models[i].fit(Xtrain,ytrain) #make sure models are fitted on the entire training set\n",
    "        S_test[:,i] = base_models[i].predict(Xtest.drop('PassengerId',axis =1))\n",
    "    \n",
    "    return pd.DataFrame(S_test, columns = col_names)        "
   ]
  },
  {
   "cell_type": "code",
   "execution_count": 404,
   "metadata": {
    "collapsed": true
   },
   "outputs": [],
   "source": [
    "def stack_training_set(base_models, col_names, n_folds = 5):\n",
    "    '''Performs stacking of base_models by dividing training data into n_folds and repeating \n",
    "    the following procedure n_folds times:\n",
    "    * train each classifier on n_folds-1 folds, predict on the remaining fold\n",
    "    * record each classifiers prediction of the remaing fold in a new data frame, keeping the folds indexing\n",
    "    \n",
    "    This way we obtain predictions for each base model on the entire training set in a way such that prediction \n",
    "    for each point was made by a model which has not seen this particular point in training.\n",
    "    \n",
    "    Returns a data frame (num of training examples x number of base columns)\n",
    "    '''\n",
    "    \n",
    "    folds = list(KFold(n_splits = n_folds, shuffle=True, random_state=0).split(Xtrain))\n",
    "    \n",
    "    S_train = np.zeros((Xtrain.shape[0], len(base_models)))\n",
    "    \n",
    "    for i, clf in enumerate(base_models):\n",
    "            \n",
    "        for j, (train_idx, test_idx) in enumerate(folds):\n",
    "            X_train = Xtrain.iloc[train_idx]\n",
    "            y_train = ytrain[train_idx]\n",
    "            X_holdout = Xtrain.iloc[test_idx]\n",
    "            \n",
    "            clf.fit(X_train, y_train)\n",
    "            y_pred = clf.predict(X_holdout)[:]\n",
    "            S_train[test_idx, i] = y_pred\n",
    "                                             \n",
    "    return pd.DataFrame(S_train, columns = col_names)"
   ]
  },
  {
   "cell_type": "markdown",
   "metadata": {},
   "source": [
    "Let's use our stacking functions to create meta features."
   ]
  },
  {
   "cell_type": "code",
   "execution_count": 439,
   "metadata": {
    "collapsed": false
   },
   "outputs": [],
   "source": [
    "meta_test = stack_test_set([forest,svc,maxent],['forest','svc','maxent'])\n",
    "meta_train = stack_training_set([forest,svc,maxent], ['forest','svc','maxent'])"
   ]
  },
  {
   "cell_type": "markdown",
   "metadata": {},
   "source": [
    "Let's also create data frames to hold all features, original + meta."
   ]
  },
  {
   "cell_type": "code",
   "execution_count": 440,
   "metadata": {
    "collapsed": false
   },
   "outputs": [],
   "source": [
    "Strain = pd.concat([Xtrain,meta_train],axis = 1)\n",
    "Stest = pd.concat([Xtest, meta_test], axis = 1)"
   ]
  },
  {
   "cell_type": "code",
   "execution_count": 441,
   "metadata": {
    "collapsed": false
   },
   "outputs": [
    {
     "data": {
      "text/html": [
       "<div>\n",
       "<table border=\"1\" class=\"dataframe\">\n",
       "  <thead>\n",
       "    <tr style=\"text-align: right;\">\n",
       "      <th></th>\n",
       "      <th>Age</th>\n",
       "      <th>Sex</th>\n",
       "      <th>FamSize</th>\n",
       "      <th>IsAlone</th>\n",
       "      <th>Embarked_C</th>\n",
       "      <th>Embarked_Q</th>\n",
       "      <th>Embarked_S</th>\n",
       "      <th>Pclass_1</th>\n",
       "      <th>Pclass_2</th>\n",
       "      <th>Pclass_3</th>\n",
       "      <th>...</th>\n",
       "      <th>Fare_(30, 982]</th>\n",
       "      <th>Fare_(982, 1309]</th>\n",
       "      <th>Master</th>\n",
       "      <th>Mr</th>\n",
       "      <th>Unnmmaried woman</th>\n",
       "      <th>Married woman</th>\n",
       "      <th>Other title</th>\n",
       "      <th>forest</th>\n",
       "      <th>svc</th>\n",
       "      <th>maxent</th>\n",
       "    </tr>\n",
       "  </thead>\n",
       "  <tbody>\n",
       "    <tr>\n",
       "      <th>0</th>\n",
       "      <td>22.0</td>\n",
       "      <td>1</td>\n",
       "      <td>1</td>\n",
       "      <td>0</td>\n",
       "      <td>0</td>\n",
       "      <td>0</td>\n",
       "      <td>1</td>\n",
       "      <td>0</td>\n",
       "      <td>0</td>\n",
       "      <td>1</td>\n",
       "      <td>...</td>\n",
       "      <td>0</td>\n",
       "      <td>0</td>\n",
       "      <td>0</td>\n",
       "      <td>1</td>\n",
       "      <td>0</td>\n",
       "      <td>0</td>\n",
       "      <td>0</td>\n",
       "      <td>0.0</td>\n",
       "      <td>0.0</td>\n",
       "      <td>0.0</td>\n",
       "    </tr>\n",
       "    <tr>\n",
       "      <th>1</th>\n",
       "      <td>38.0</td>\n",
       "      <td>0</td>\n",
       "      <td>1</td>\n",
       "      <td>0</td>\n",
       "      <td>0</td>\n",
       "      <td>0</td>\n",
       "      <td>1</td>\n",
       "      <td>1</td>\n",
       "      <td>0</td>\n",
       "      <td>0</td>\n",
       "      <td>...</td>\n",
       "      <td>1</td>\n",
       "      <td>0</td>\n",
       "      <td>0</td>\n",
       "      <td>0</td>\n",
       "      <td>0</td>\n",
       "      <td>1</td>\n",
       "      <td>0</td>\n",
       "      <td>1.0</td>\n",
       "      <td>1.0</td>\n",
       "      <td>1.0</td>\n",
       "    </tr>\n",
       "    <tr>\n",
       "      <th>2</th>\n",
       "      <td>26.0</td>\n",
       "      <td>0</td>\n",
       "      <td>0</td>\n",
       "      <td>1</td>\n",
       "      <td>0</td>\n",
       "      <td>0</td>\n",
       "      <td>1</td>\n",
       "      <td>0</td>\n",
       "      <td>0</td>\n",
       "      <td>1</td>\n",
       "      <td>...</td>\n",
       "      <td>0</td>\n",
       "      <td>0</td>\n",
       "      <td>0</td>\n",
       "      <td>0</td>\n",
       "      <td>1</td>\n",
       "      <td>0</td>\n",
       "      <td>0</td>\n",
       "      <td>0.0</td>\n",
       "      <td>1.0</td>\n",
       "      <td>1.0</td>\n",
       "    </tr>\n",
       "    <tr>\n",
       "      <th>3</th>\n",
       "      <td>35.0</td>\n",
       "      <td>0</td>\n",
       "      <td>1</td>\n",
       "      <td>0</td>\n",
       "      <td>0</td>\n",
       "      <td>0</td>\n",
       "      <td>1</td>\n",
       "      <td>1</td>\n",
       "      <td>0</td>\n",
       "      <td>0</td>\n",
       "      <td>...</td>\n",
       "      <td>1</td>\n",
       "      <td>0</td>\n",
       "      <td>0</td>\n",
       "      <td>0</td>\n",
       "      <td>0</td>\n",
       "      <td>1</td>\n",
       "      <td>0</td>\n",
       "      <td>1.0</td>\n",
       "      <td>1.0</td>\n",
       "      <td>1.0</td>\n",
       "    </tr>\n",
       "    <tr>\n",
       "      <th>4</th>\n",
       "      <td>35.0</td>\n",
       "      <td>1</td>\n",
       "      <td>0</td>\n",
       "      <td>1</td>\n",
       "      <td>0</td>\n",
       "      <td>0</td>\n",
       "      <td>1</td>\n",
       "      <td>0</td>\n",
       "      <td>0</td>\n",
       "      <td>1</td>\n",
       "      <td>...</td>\n",
       "      <td>0</td>\n",
       "      <td>0</td>\n",
       "      <td>0</td>\n",
       "      <td>1</td>\n",
       "      <td>0</td>\n",
       "      <td>0</td>\n",
       "      <td>0</td>\n",
       "      <td>0.0</td>\n",
       "      <td>0.0</td>\n",
       "      <td>0.0</td>\n",
       "    </tr>\n",
       "  </tbody>\n",
       "</table>\n",
       "<p>5 rows × 22 columns</p>\n",
       "</div>"
      ],
      "text/plain": [
       "    Age  Sex  FamSize  IsAlone  Embarked_C  Embarked_Q  Embarked_S  Pclass_1  \\\n",
       "0  22.0    1        1        0           0           0           1         0   \n",
       "1  38.0    0        1        0           0           0           1         1   \n",
       "2  26.0    0        0        1           0           0           1         0   \n",
       "3  35.0    0        1        0           0           0           1         1   \n",
       "4  35.0    1        0        1           0           0           1         0   \n",
       "\n",
       "   Pclass_2  Pclass_3   ...    Fare_(30, 982]  Fare_(982, 1309]  Master  Mr  \\\n",
       "0         0         1   ...                 0                 0       0   1   \n",
       "1         0         0   ...                 1                 0       0   0   \n",
       "2         0         1   ...                 0                 0       0   0   \n",
       "3         0         0   ...                 1                 0       0   0   \n",
       "4         0         1   ...                 0                 0       0   1   \n",
       "\n",
       "   Unnmmaried woman  Married woman  Other title  forest  svc  maxent  \n",
       "0                 0              0            0     0.0  0.0     0.0  \n",
       "1                 0              1            0     1.0  1.0     1.0  \n",
       "2                 1              0            0     0.0  1.0     1.0  \n",
       "3                 0              1            0     1.0  1.0     1.0  \n",
       "4                 0              0            0     0.0  0.0     0.0  \n",
       "\n",
       "[5 rows x 22 columns]"
      ]
     },
     "execution_count": 441,
     "metadata": {},
     "output_type": "execute_result"
    }
   ],
   "source": [
    "Strain.head()"
   ]
  },
  {
   "cell_type": "markdown",
   "metadata": {},
   "source": [
    "For the second 2nd level model, we will first use RandomForest and then xgboost. We will train both models using only meta features first, and then using the original features together with the meta features."
   ]
  },
  {
   "cell_type": "markdown",
   "metadata": {},
   "source": [
    "### 2nd level model: RandomForest"
   ]
  },
  {
   "cell_type": "markdown",
   "metadata": {},
   "source": [
    "Let's first train on meta features only."
   ]
  },
  {
   "cell_type": "code",
   "execution_count": 444,
   "metadata": {
    "collapsed": false
   },
   "outputs": [
    {
     "name": "stdout",
     "output_type": "stream",
     "text": [
      "Best parameters found: \n",
      "{'bootstrap': True, 'max_depth': 4, 'max_features': 'sqrt', 'min_samples_leaf': 10, 'min_samples_split': 2, 'n_estimators': 70}\n",
      "\n",
      " Best score:\n",
      "0.832772166105\n"
     ]
    }
   ],
   "source": [
    "stacker_forest1 = tune_and_fit(RandomForestClassifier(random_state=0),forest_grid, cv = 5,X_train = meta_train)"
   ]
  },
  {
   "cell_type": "code",
   "execution_count": 516,
   "metadata": {
    "collapsed": false
   },
   "outputs": [],
   "source": [
    "make_submission(stacker_forest1, 'submission_stacking_1',pd.concat([Xtest['PassengerId'],meta_test],axis=1))"
   ]
  },
  {
   "cell_type": "markdown",
   "metadata": {},
   "source": [
    "LB score: 0.78947"
   ]
  },
  {
   "cell_type": "markdown",
   "metadata": {},
   "source": [
    "Let's repeat the above exercise using both original and meta features."
   ]
  },
  {
   "cell_type": "code",
   "execution_count": 427,
   "metadata": {
    "collapsed": false
   },
   "outputs": [
    {
     "name": "stdout",
     "output_type": "stream",
     "text": [
      "Best parameters found: \n",
      "{'bootstrap': False, 'max_depth': 4, 'max_features': 'sqrt', 'min_samples_leaf': 10, 'min_samples_split': 2, 'n_estimators': 50}\n",
      "\n",
      " Best score:\n",
      "0.830527497194\n"
     ]
    }
   ],
   "source": [
    "stacker_forest2 = tune_and_fit(RandomForestClassifier(random_state=0), forest_grid, cv = 5, X_train = Strain)"
   ]
  },
  {
   "cell_type": "code",
   "execution_count": 517,
   "metadata": {
    "collapsed": false
   },
   "outputs": [],
   "source": [
    "make_submission(stacker_forest2, 'submission_stacking_2',Stest)"
   ]
  },
  {
   "cell_type": "markdown",
   "metadata": {},
   "source": [
    "This has also produced a LB score of 0.78947"
   ]
  },
  {
   "cell_type": "markdown",
   "metadata": {},
   "source": [
    "Finally, let's take a look at the graph of feature importances for the above forest."
   ]
  },
  {
   "cell_type": "code",
   "execution_count": 448,
   "metadata": {
    "collapsed": true
   },
   "outputs": [],
   "source": [
    "features = pd.DataFrame()\n",
    "features['feature'] = Strain.columns\n",
    "features['importance'] = stacker_forest2.feature_importances_\n",
    "features.sort_values(by=['importance'], ascending=True, inplace=True)\n",
    "features.set_index('feature', inplace=True)"
   ]
  },
  {
   "cell_type": "code",
   "execution_count": 449,
   "metadata": {
    "collapsed": false
   },
   "outputs": [
    {
     "data": {
      "image/png": "[encoded data removed]",
      "text/plain": [
       "<matplotlib.figure.Figure at 0x111444e80>"
      ]
     },
     "metadata": {},
     "output_type": "display_data"
    }
   ],
   "source": [
    "with plt.style.context('ggplot'):\n",
    "    features.plot(kind='barh', figsize=(20, 20))"
   ]
  },
  {
   "cell_type": "markdown",
   "metadata": {},
   "source": [
    "We observe that our model really did make use of the base models predictions. I didn't simply repeat the labels of the best model (random forest), as it put more importance on SVC."
   ]
  },
  {
   "cell_type": "markdown",
   "metadata": {},
   "source": [
    "### 2nd level model: xgboost"
   ]
  },
  {
   "cell_type": "markdown",
   "metadata": {},
   "source": [
    "Since using RandomForest as a stacker hasn't yielded any improvement in LB score, let's try xgboost. As earlier, we will use it both on meta features alone and their concatenation with the original features. "
   ]
  },
  {
   "cell_type": "markdown",
   "metadata": {},
   "source": [
    "Before we apply xgboost algorithm, we need to rename our Fare features. Xgboost doesn't accept features with commas in their names."
   ]
  },
  {
   "cell_type": "code",
   "execution_count": 450,
   "metadata": {
    "collapsed": true
   },
   "outputs": [],
   "source": [
    "rename_dict = {'Fare_[0, 9.5]' : 'Fare_1', 'Fare_(9.5, 30]' : 'Fare_2', \n",
    "               'Fare_(30, 982]': 'Fare_3', 'Fare_(982, 1309]' : 'Fare_4' }\n",
    "\n",
    "Strain.rename(columns = rename_dict, inplace=True)\n",
    "Stest.rename(columns = rename_dict, inplace=True)"
   ]
  },
  {
   "cell_type": "markdown",
   "metadata": {},
   "source": [
    "We will use sklearn wrapper around xgboost."
   ]
  },
  {
   "cell_type": "code",
   "execution_count": 453,
   "metadata": {
    "collapsed": true
   },
   "outputs": [],
   "source": [
    "from xgboost.sklearn import XGBClassifier\n",
    "from xgboost import plot_importance"
   ]
  },
  {
   "cell_type": "markdown",
   "metadata": {},
   "source": [
    "Define a parameter grid for our boosted tree classifier."
   ]
  },
  {
   "cell_type": "code",
   "execution_count": 454,
   "metadata": {
    "collapsed": true
   },
   "outputs": [],
   "source": [
    "xgb_param_grid = {'max_depth' : np.arange(2,9,1),\n",
    "                  'subsample' : np.arange(0.3,0.9,0.1),\n",
    "                  'colsample_bytree' : np.arange(0.4,1,0.1),\n",
    "                  'gamma' : np.arange(0,1,0.1),\n",
    "                  'n_estimators' : [50,100,200,300,500]}"
   ]
  },
  {
   "cell_type": "markdown",
   "metadata": {},
   "source": [
    "Using meta features only."
   ]
  },
  {
   "cell_type": "code",
   "execution_count": 456,
   "metadata": {
    "collapsed": false
   },
   "outputs": [
    {
     "name": "stdout",
     "output_type": "stream",
     "text": [
      "Best parameters found: \n",
      "{'colsample_bytree': 0.40000000000000002, 'gamma': 0.0, 'max_depth': 2, 'n_estimators': 50, 'subsample': 0.29999999999999999}\n",
      "\n",
      " Best score:\n",
      "0.832772166105\n"
     ]
    }
   ],
   "source": [
    "stacker_xgb1 = tune_and_fit(XGBClassifier(),xgb_param_grid,cv = 5,X_train = meta_train)"
   ]
  },
  {
   "cell_type": "code",
   "execution_count": 518,
   "metadata": {
    "collapsed": false
   },
   "outputs": [],
   "source": [
    "make_submission(stacker_xgb1,'submission_stacking_3',pd.concat([Xtest['PassengerId'],meta_test],axis=1))"
   ]
  },
  {
   "cell_type": "markdown",
   "metadata": {},
   "source": [
    "LB score: 0.76555"
   ]
  },
  {
   "cell_type": "markdown",
   "metadata": {},
   "source": [
    "Finally, train xgboost using all features."
   ]
  },
  {
   "cell_type": "code",
   "execution_count": 458,
   "metadata": {
    "collapsed": false
   },
   "outputs": [
    {
     "name": "stdout",
     "output_type": "stream",
     "text": [
      "Best parameters found: \n",
      "{'colsample_bytree': 0.40000000000000002, 'gamma': 0.60000000000000009, 'max_depth': 6, 'n_estimators': 500, 'subsample': 0.29999999999999999}\n",
      "\n",
      " Best score:\n",
      "0.842873176207\n"
     ]
    }
   ],
   "source": [
    "stacker_xgb2 = tune_and_fit(XGBClassifier(),xgb_param_grid,cv = 5, X_train = Strain)"
   ]
  },
  {
   "cell_type": "code",
   "execution_count": 519,
   "metadata": {
    "collapsed": false
   },
   "outputs": [],
   "source": [
    "make_submission(stacker_xgb2, 'submission_stacking_4',Stest)"
   ]
  },
  {
   "cell_type": "markdown",
   "metadata": {},
   "source": [
    "LB score: 0.77512 "
   ]
  },
  {
   "cell_type": "markdown",
   "metadata": {},
   "source": [
    "Since this model produced the highest cross validaiton score, but it's final LB score is lower than that of the best base model, it looks like we overfit our xgb."
   ]
  },
  {
   "cell_type": "markdown",
   "metadata": {},
   "source": [
    "Let's plot feature importances for the xgboost model."
   ]
  },
  {
   "cell_type": "code",
   "execution_count": 460,
   "metadata": {
    "collapsed": false
   },
   "outputs": [
    {
     "data": {
      "image/png": "[encoded data removed]",
      "text/plain": [
       "<matplotlib.figure.Figure at 0x117fbd588>"
      ]
     },
     "metadata": {},
     "output_type": "display_data"
    }
   ],
   "source": [
    "with plt.style.context('ggplot'):\n",
    "    plot_importance(stacker_xgb2)"
   ]
  },
  {
   "cell_type": "markdown",
   "metadata": {},
   "source": [
    "Differently than the random forest model, xgboost's main feature was Age. Random Forest base model predictions were 4th most important feature, and SVC and MaxEnt took 13th and 14th place, respectively."
   ]
  },
  {
   "cell_type": "markdown",
   "metadata": {},
   "source": [
    "Contrary to our expectations, stacking and using xgboost for 2nd level model did not bear any fruit. Possible explanations:\n",
    "* not enough base models (just three)\n",
    "* wrong set of features for 2nd level model (we only tried just meta features or meta features + all, maybe some intermediate subsets of features would work better)\n",
    "* wrong hyperparameters for xgboost? After all, it performed worse as a stacker than RandomForest (first time ever I used xgboost so my hyperparameter search might be far from optimal)\n",
    "* Not enough disagreement betweeen base model"
   ]
  },
  {
   "cell_type": "markdown",
   "metadata": {},
   "source": [
    "To further emphasise our last possible explanation of poor stacking performance, notice:"
   ]
  },
  {
   "cell_type": "code",
   "execution_count": 463,
   "metadata": {
    "collapsed": false
   },
   "outputs": [],
   "source": [
    "meta_train['SUM'] = meta_train.eval('forest + svc + maxent')"
   ]
  },
  {
   "cell_type": "code",
   "execution_count": 468,
   "metadata": {
    "collapsed": false
   },
   "outputs": [
    {
     "data": {
      "text/plain": [
       "69"
      ]
     },
     "execution_count": 468,
     "metadata": {},
     "output_type": "execute_result"
    }
   ],
   "source": [
    "meta_train.query('SUM != 0 and SUM != 3')['SUM'].count()"
   ]
  },
  {
   "cell_type": "markdown",
   "metadata": {},
   "source": [
    "We note that our three base models disagreed only on 69 passengers (out of 891, that's just under 8%). Perhaps poor performance of our stacking approach was due to the fact that base models were in exact agreement for more than 90% of the data and there just wasn't enough information in our meta features for the 2nd level model to learn from."
   ]
  },
  {
   "cell_type": "markdown",
   "metadata": {},
   "source": [
    "### Overall, the best model was a RandomForest with a 5-fold cross validation score of 0.835 and LB score of 0.79426"
   ]
  }
 ],
 "metadata": {
  "kernelspec": {
   "display_name": "Python 3",
   "language": "python",
   "name": "python3"
  },
  "language_info": {
   "codemirror_mode": {
    "name": "ipython",
    "version": 3
   },
   "file_extension": ".py",
   "mimetype": "text/x-python",
   "name": "python",
   "nbconvert_exporter": "python",
   "pygments_lexer": "ipython3",
   "version": "3.6.0"
  }
 },
 "nbformat": 4,
 "nbformat_minor": 2
}
